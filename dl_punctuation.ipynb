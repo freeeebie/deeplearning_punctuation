{
 "cells": [
  {
   "cell_type": "markdown",
   "metadata": {
    "collapsed": true
   },
   "source": [
    "# 문장 기호 자동 추가\n",
    "문장이 주어졌을 때 문장 부호인 마침표('.')와 쉼표(',') 를 자동으로 추가하는 프로그램을 작성하는 것을 목표로 한다.  \n",
    "이를 수행하기 위하여 복수의 문장을 입력 받아 Deep Learning Network 을 구성하여 training 하고,  \n",
    "주어진 문장에 대하여 적용하여 실제 동작을 잘 수행하는지 확인 한다  \n",
    "\n",
    "예를 들면, 아래와 같이 문장이 주어졌다고 가정하자.  \n",
    "```\n",
    "   \"오늘 걷지 않는다면 내일은 뛰어야 한다\"\n",
    "```\n",
    "우리가 원하는 결과는 아래와 같을 것이다.  \n",
    "```\n",
    "   \"오늘 걷지 않는다면, 내일은 뛰어야 한다.\"\n",
    "```\n",
    "  \n",
    "## overview\n",
    "\n",
    "입력된 문장에서 target 을 아래와 같이 구성한다  \n",
    "\n",
    "```\n",
    " 문자 : '<nop>'  \n",
    "   . : '.'  \n",
    "   , : ','  \n",
    "```\n",
    "\n",
    "즉, 위의 예를 다시 쓰면 아래처럼 될 것이다. \n",
    "```\n",
    "   오 : '<nop>'\n",
    "   늘 : '<nop>'\n",
    "      : '<nop>'\n",
    "   걷 : '<nop>'\n",
    "   ... \n",
    "   면 : '<nop>'\n",
    "   , : ','\n",
    "     : '<nop>'\n",
    "   내 : '<nop>'\n",
    "   일 : '<nop>'\n",
    "   ...\n",
    "   한 : '<nop>'\n",
    "   다 : '<nop>'\n",
    "   . : '.'\n",
    "```\n",
    "즉,\n",
    "```\n",
    "\"오늘 걷지 않는다면, 내일은 뛰어야 한다.\"\n",
    "```\n",
    "가 들어오면, \n",
    "```\n",
    "<nop><nop><nop><nop><nop><nop><nop><nop><nop><nop>,<nop><nop><nop><nop><nop><nop>.\"\n",
    "```\n",
    "위와 같이 &lt;nop>&nbsp;,&nbsp; ','&nbsp;,&nbsp;&nbsp;  '.' 로 이루어진 리스트가 출력되는 문제로 추상화할 수 있다.   \n",
    "즉, 각각의 character 하나마다, 3개의 class 중 하나의 값으로 분류하는 문제라고 볼 수 있다.  \n",
    "  \n",
    "문장의 형태소 정보라든지 추가적인 정보를 사용한다면, 더 좋은 결과를 얻을 수 있을 것이라고 추측되나,  \n",
    "문제를 단순화 하기 위하여 문장을 문자 단위로 다루기로 한다.  "
   ]
  },
  {
   "cell_type": "code",
   "execution_count": 1,
   "metadata": {
    "collapsed": true
   },
   "outputs": [],
   "source": [
    "%load_ext autoreload"
   ]
  },
  {
   "cell_type": "code",
   "execution_count": 2,
   "metadata": {
    "collapsed": true
   },
   "outputs": [],
   "source": [
    "%autoreload 2"
   ]
  },
  {
   "cell_type": "code",
   "execution_count": 3,
   "metadata": {},
   "outputs": [
    {
     "name": "stdout",
     "output_type": "stream",
     "text": [
      "Collecting termcolor\n",
      "  Downloading termcolor-1.1.0.tar.gz\n",
      "Building wheels for collected packages: termcolor\n",
      "  Running setup.py bdist_wheel for termcolor ... \u001b[?25ldone\n",
      "\u001b[?25h  Stored in directory: /home/nbuser/.cache/pip/wheels/de/f7/bf/1bcac7bf30549e6a4957382e2ecab04c88e513117207067b03\n",
      "Successfully built termcolor\n",
      "Installing collected packages: termcolor\n",
      "Successfully installed termcolor-1.1.0\n"
     ]
    }
   ],
   "source": [
    "!pip install termcolor"
   ]
  },
  {
   "cell_type": "code",
   "execution_count": 4,
   "metadata": {},
   "outputs": [
    {
     "name": "stdout",
     "output_type": "stream",
     "text": [
      "1.3.0\n"
     ]
    }
   ],
   "source": [
    "import tensorflow as tf\n",
    "\n",
    "print(tf.__version__)"
   ]
  },
  {
   "cell_type": "markdown",
   "metadata": {},
   "source": [
    "## preprocessing \n",
    "\n",
    "입력은 한글로 된 세종 코퍼스 중 텍스트를 미리 다운 받아 처리하였다.  \n",
    "입력된 data 에서 &lt;body> 중 &lt;p> &lt;/p> 로 묶인 문장만을 사용하였다. \n",
    "  \n",
    "우선 training 을 위하여 입력한 data의 전처리가 필요하다.  \n",
    "문장을 입력받으면, 이에 대응하는 character vector 를 구성하여, input에 대한 dictionary 를 구성한다. \n",
    "한글의 문자는 그 수가 많고, 입력된 텍스트에는 영어나 특수 문자 등이 포함되었을 수 있으니,  \n",
    "모든 문자를 dictionary에 추가할 수는 없다.  \n",
    "그러므로 입력 문자의 빈도수를 보고 적절한 갯수로 입력 dictionary 의 크기를 제한한다. \n",
    "  \n",
    "아래는 입력된 문자에 대한 빈도수를 log scale 로 보여주는 그래프이다.  \n",
    "이 그래프를 참고하여 임의의 갯수로 dictionary 이 크기를 제한하여 진행하였다. "
   ]
  },
  {
   "cell_type": "code",
   "execution_count": 5,
   "metadata": {
    "scrolled": true
   },
   "outputs": [
    {
     "name": "stderr",
     "output_type": "stream",
     "text": [
      "/home/nbuser/anaconda3_410/lib/python3.5/site-packages/matplotlib/font_manager.py:273: UserWarning: Matplotlib is building the font cache using fc-list. This may take a moment.\n",
      "  warnings.warn('Matplotlib is building the font cache using fc-list. This may take a moment.')\n",
      "/home/nbuser/anaconda3_410/lib/python3.5/site-packages/matplotlib/font_manager.py:273: UserWarning: Matplotlib is building the font cache using fc-list. This may take a moment.\n",
      "  warnings.warn('Matplotlib is building the font cache using fc-list. This may take a moment.')\n"
     ]
    },
    {
     "name": "stdout",
     "output_type": "stream",
     "text": [
      "length of paragraph:  1104  characters:  190957\n"
     ]
    },
    {
     "data": {
      "image/png": "[encoded data removed]",
      "text/plain": [
       "<matplotlib.figure.Figure at 0x7ff1535bc0b8>"
      ]
     },
     "metadata": {},
     "output_type": "display_data"
    }
   ],
   "source": [
    "import math, numpy as np, matplotlib.pyplot as plt\n",
    "import data\n",
    "\n",
    "rawdata = data.read_data(\"data/training/4BH00005.txt\")\n",
    "\n",
    "sorted_char_map = data.get_sorted_char_map(rawdata)\n",
    "\n",
    "plt.title('Frequency of Each Character', fontsize=18)\n",
    "plt.plot(np.array([math.log10(k[1]) for k in sorted_char_map]))\n",
    "plt.ylabel('$\\log_{10}$ Frequency', fontsize=14)\n",
    "plt.xlabel('Character Index', fontsize=14)\n",
    "plt.show()"
   ]
  },
  {
   "cell_type": "markdown",
   "metadata": {},
   "source": [
    "## 네트워크 구성 \n",
    "\n",
    "입력은 dictionary 중 하나의 문자이고,  \n",
    "이러한 입력이 들어올 때  \n",
    "출력은 세 개의 케이스 ('&lt;nop>',&nbsp;&nbsp;'.',&nbsp;&nbsp; ',') 중 하나를 출력하도록 하는 네트워크를 구성한다.  \n",
    "출력값이 존재하는 문제로 정의하였으므로,  \n",
    "supervised learning 으로 문제를 해결한다.  \n",
    "  \n",
    "문장을 training하여 문장 부호를 예측하는 모델에서  \n",
    "각 문장의 character 들은 그 이전에 나온 character와 밀접한 관계를 가지므로  \n",
    "이전 output 이 다음 step 의 input 으로 사용하는 네트워크인 Recurrent Neural Network 을 사용한다.  \n",
    "\n",
    "RNN 의 cell은 vanishing gradient 의 영향을 줄일 수 있는 LSTM 을 사용한다.  \n",
    "RNN 의 구성은 아래의 두 케이스를 진행하였다.  \n",
    "\n",
    "### Multilayer RNN \n",
    "Layer 를 2 layer를 사용하였고, hidden size 는 128 로 설정하였다.  \n",
    "각 cell 은 이전 cell 의 output 을 LSTM 의 input 으로 사용한다.  \n",
    "Dictionary 의 size가 100이라면,  \n",
    "아래와 같은 네트웍이 될 것이다.  \n",
    "```\n",
    "입력: 100개의 문자 중 1\n",
    "hidden layer: 128 * 128 \n",
    "출력: 3 classes \n",
    "```"
   ]
  },
  {
   "cell_type": "markdown",
   "metadata": {},
   "source": [
    "### Bidirectional RNN \n",
    "만약 아래와 같은 문장이 있을 때, \n",
    "```\n",
    "\"그가 방에 들어간다면\" \n",
    "```\n",
    "forward 정보만을 취한다면,  \n",
    "아래처럼 예측이 될 수 있을 것이라고 추측된다.  \n",
    "```\n",
    "\"그가 방에 들어간다.면\" \n",
    "```\n",
    "그러므로 forward와 backward 를 모두 고려하는 Bidirectional RNN 을  \n",
    "사용하는 것이 정확도를 더 올릴 수 있을 것이라고 생각되어 이를 추가하였다.  \n",
    "Multilayer RNN에서도 두개의 cell 만을 사용하였으므로,  \n",
    "비교를 위해 Bidirectional 도 forward, backward 두 개의 cell 만을 사용하였다."
   ]
  },
  {
   "cell_type": "markdown",
   "metadata": {},
   "source": [
    "### 수행 결과 측정\n",
    "수행 결과를 측정한 지표로는 아래를 사용하였다. \n",
    "- Loss  \n",
    "training 시 결과로 리턴되는 값으로,  실측 data(target data)와 prediction 결과로 연산한 cost function 의 결과값이다. \n",
    "- Accuracy  \n",
    "실측 data 와 prediction 의 결과로 각각 나온 list 를 비교하여 각 item 별로 비교하여,  \n",
    "같으면 true, 다르면 false 로 하여 이를 평균낸 값이다.  \n",
    "- Speed   \n",
    "수행 시간을 나타낸다.  \n",
    "- Precision, Recall, F-score  \n",
    "전통적으로 NLP, 검색엔진 등의 성능을 측정하는 지표로 알려진 precision, recall, f-score 를 사용한다.  \n",
    "    - Precision  \n",
    "    prediction 한 결과 값 중 실제 data 와 일치하는 비율\n",
    "    - Recall  \n",
    "    실측 data 중 몇개가 prediction 과 일치하는지에 대한 비율\n",
    "    - F-score  \n",
    "    precision 과 recall 을 하나의 지표로 표시하기 위한 목적으로 두 값의 조화평균"
   ]
  },
  {
   "cell_type": "markdown",
   "metadata": {},
   "source": [
    "## Implementation \n",
    "### data preprocessing  과정 \n",
    "아래는 실제 data file 을 read 하여  \n",
    "character 에 대한 dictionary 를 구성하는 부분이다.  \n",
    "입력 dictionary 로는 100 개로 설정하였고, 출력은 '&lt;nop>,&nbsp;&nbsp; '.',&nbsp;&nbsp; ',' &nbsp;3개 중 하나가 된다.   \n",
    "입력한 data 는 편의를 위하여 고정된 길이의 sequence length 로 나누어 저장한다.  \n",
    "이 sequence length 는 RNN 에서 몇개의 data 까지 고려할지를 결정하는 step 갯수의 값이 될 것이다.  \n",
    "각각 나눈 data 는 아래와 같은 종류로 전처리하여 저장한다. \n",
    "    - input data \n",
    "    고정길이로 나눈 문장에서 '.'과 ','를 삭제한 후 미리 구성한 dictionary 의 index 로 치환한다. \n",
    "    - target data \n",
    "    입력된 문장에 대한 실제 결과로, 입력된 문장을 '&lt;nop>', '.', ',' 로 변경한 결과를 저장한다.  \n",
    "    - sequence length \n",
    "    입력된 text 를 고정길이로 나누어 사용하여 필요가 없으나,  \n",
    "    입력 문장에서 '.', ',' 를 strip 하는 과정을 거치면, 문장의 길이에 차이가 발생한다.  \n",
    "    이에 대응하기 위하여 input data 를 strip 한 길이를 저장하는 벡터가 필요하다.  \n",
    "    \n",
    "training 에 사용된 data 의 10퍼센트는 검증에 사용하도록,  \n",
    "preprocessing 한 dataset 을 training 용도와 validation 용도로 나누어 저장한다.  "
   ]
  },
  {
   "cell_type": "code",
   "execution_count": 10,
   "metadata": {},
   "outputs": [
    {
     "name": "stdout",
     "output_type": "stream",
     "text": [
      "length of paragraph:  100  characters:  17582\n"
     ]
    }
   ],
   "source": [
    "import data\n",
    "import utils\n",
    "import models.modelbase as base\n",
    "\n",
    "text = data.read_data(\"data/training/4BH00005.txt\", 100)\n",
    "# text = data.read_large_data(\"data/training\")\n",
    "\n",
    "dic_size = 100\n",
    "input_chars = data.make_input_dic(text, dic_size)\n",
    "output_chars = ['<nop>', '.', ',']\n",
    "\n",
    "char2vec = utils.Char2Vec(chars=input_chars, add_unknown=True)\n",
    "output_char2vec = utils.Char2Vec(chars=output_chars)\n",
    "input_size = char2vec.size\n",
    "output_size = output_char2vec.size"
   ]
  },
  {
   "cell_type": "markdown",
   "metadata": {},
   "source": [
    "###  Variable 설정 \n",
    "input 은 입력 data 이고, target 은 Y 값, 즉 관측된 결과 값이다. \n",
    "seq_lens 는 입력 sequence 의 length 를 저장한다. \n",
    "  \n",
    "  \n",
    "이를 각각의 placeholder 로 설정한다.  \n",
    "input 값에 대한 placeholder 는 3차원으로 아래와 같다.    \n",
    "```\n",
    " [전체 batch size * sequence length * input size]    \n",
    "```\n",
    "3번째 차원이 input size 인 이유는 one hot encoding 형식으로 데이터를 전달하려는 의도이다.  \n",
    "  \n",
    "출력 Y 는 one hot 이 아닌 index 로 저장할 예정이므로,  \n",
    "```\n",
    "[전체 batch size * sequence length]\n",
    "```\n",
    "로 설정한다.  \n",
    "  \n",
    "그 외 문장의 길이를 저장하는 sequence 에 대한 정보를 저장할 placeholder 를 설정한다. \n"
   ]
  },
  {
   "cell_type": "code",
   "execution_count": 11,
   "metadata": {
    "collapsed": true
   },
   "outputs": [],
   "source": [
    "import tensorflow as tf\n",
    "import models.modelbase as base\n",
    "\n",
    "# make and run multi layer LSTM network\n",
    "\n",
    "hidden_size = 128\n",
    "seq_length = 100\n",
    "modelconfig = base.ModelConfiguration(input_size, hidden_size, output_size, epoch=500)\n",
    "evals = {}\n",
    "types = [\"multi\", \"bimul\"]\n",
    "\n",
    "type = \"multi\"\n",
    "training_dataset, valid_dataset = data.make_sequences(text, char2vec, output_char2vec, seq_length)\n",
    "\n",
    "input_batch = training_dataset.input_batch\n",
    "target_batch = training_dataset.target_batch\n",
    "seq_lens = training_dataset.seq_lens\n",
    "\n",
    "hidden_size = modelconfig.hidden_size\n",
    "\n",
    "tf.reset_default_graph()\n",
    "\n",
    "X = tf.placeholder(tf.int32, [None, seq_length])  # X data\n",
    "X_one_hot = tf.one_hot(X, modelconfig.input_size)  # one hot: 1 -> 0 1 0 0 0 0 0 0 0 0\n",
    "\n",
    "Y = tf.placeholder(tf.int32, [None, seq_length])  # Y label\n",
    "\n",
    "Sequences = tf.placeholder(tf.int32, [None])\n",
    "keep_prob = tf.placeholder(tf.float32)"
   ]
  },
  {
   "cell_type": "markdown",
   "metadata": {},
   "source": [
    "#### 네트워크 구성\n",
    "네트워크는 두 개의 종류로 설정하였다.  \n",
    "hidden layer 의 size 는 128로 구성하였다.  \n",
    "\n",
    "##### Multi layer \n",
    "```\n",
    "1. 하나의 입력에 대하여 128개의 hidden layer 를 가진 LSTM cell 을 구성. \n",
    "  \n",
    "2. Multi layer로 구성  \n",
    "   1개의 layer 만을 사용할 경우 결과값의 성능이 떨어지므로, deep 하게 하나의 layer 를 더 구성한다. \n",
    "     \n",
    "3. Dropout 설정  \n",
    "   Overfitting 을 막기위하여 dropout 을 설정한다.  \n",
    "   Dropout 은 training 시에 사용할 hidden layer 의 비율을 설정하는 것으로,  \n",
    "   전체를 사용하지 않으므로, overfitting 을 줄일 수 있다.  \n",
    "     \n",
    "4. 128개의 hidden layer 에서 나온 output 을 3개의 class로 연결하는 네트워크 구성\n",
    "   마지막 output의 layer와 연결되는 Weight 와 bias 는  \n",
    "   tensorflow 에서 제공하는 tf.layers.dense() 라는 API 를 사용하여  \n",
    "   마지막 layer 로 3개의 class 의 결과 layer를 연결한다.   \n",
    "  \n",
    "5. Cost function 구성 \n",
    "   이는 sparse_softmax_cross_entropy_with_logits 라는 tensorflow 의 API 를 사용하여 처리한다. \n",
    "\n",
    "   우선 network 의 출력값, 즉 3개의 분류에 대한 score 가 나온 각 node 는 softmax 를 거친다. \n",
    "   이를 거치면, 총합이 1이고, 각각은 0~1 사이로 대응되는 확률값으로 변경 가능하다.  \n",
    "\n",
    "   network 의 출력값인 [x, y, z] 와 실제 label 값 [X, Y, Z] 를 비교하여, cost function 을 구성한다.  \n",
    "   이를 위해 cross entroty 라는 방식을 사용한다.  \n",
    "   \n",
    "   sparse 가 사용된 이유는 Y값이 1-hot 으로 구성되어 있지 않은데, 이를 자동으로 1-hot 으로 변경할 필요가 있어서,  \n",
    "   sparse 가 붙은 API 를 사용한다. \n",
    "  \n",
    "6. Optimization  \n",
    "   Cost function 을 설정한 tensor 에 optimze 를 설정한다.  \n",
    "   Optimization 의 대표적인 예는 gradient decent 방식이다. \n",
    "   여기서는 tensorflow 의 AdamOptimizer 를 사용하였다.  \n",
    "   실제 구동하여 보면 GradientDescentOptimizer 보다 정확도의 각종 지표들이 높게 나옴을 알 수 있다.\n",
    "```\n",
    "대략적은 네트워크의 형태는 아래와 같다. "
   ]
  },
  {
   "cell_type": "markdown",
   "metadata": {},
   "source": [
    "<img src=\"img/rnn_multi.png\">"
   ]
  },
  {
   "cell_type": "markdown",
   "metadata": {},
   "source": [
    "\n",
    "\n",
    "##### Bidirectional layer \n",
    "위와 동일하고, 1,2 번 과정만이 차이가 있다.  \n",
    "  \n",
    "한 layer 는 backward 로 output data 를 참고하고,  \n",
    "다른 layer 는 forward 로 output data 를 입력받는다.  \n",
    "각 layer를 128개의 hidden layer 로 설정했으므로,  \n",
    "이 과정을 거쳐 256 개의 output 이 나온다.  \n",
    "  \n",
    "이를 tensorflow 의 dense 함수를 이용하여 3개의 class 의 output 으로 네트워크를 구성한다.  "
   ]
  },
  {
   "cell_type": "markdown",
   "metadata": {},
   "source": [
    "<img src=\"img/rnn_bi.png\">"
   ]
  },
  {
   "cell_type": "code",
   "execution_count": 12,
   "metadata": {},
   "outputs": [
    {
     "name": "stdout",
     "output_type": "stream",
     "text": [
      "\n",
      "****** MultiLayer LSTM start ******\n"
     ]
    }
   ],
   "source": [
    "if type == \"multi\":\n",
    "    print('\\n****** MultiLayer LSTM start ******')\n",
    "\n",
    "    with tf.variable_scope('cell_def'):\n",
    "        cell1 = tf.nn.rnn_cell.BasicLSTMCell(num_units=hidden_size, state_is_tuple=True)\n",
    "        cell1 = tf.nn.rnn_cell.DropoutWrapper(cell1, output_keep_prob=keep_prob)\n",
    "        cell2 = tf.nn.rnn_cell.BasicLSTMCell(num_units=hidden_size, state_is_tuple=True)\n",
    "        cell2 = tf.nn.rnn_cell.DropoutWrapper(cell2, output_keep_prob=keep_prob)\n",
    "        multi_cell = tf.nn.rnn_cell.MultiRNNCell([cell1, cell2])\n",
    "\n",
    "    with tf.variable_scope('rnn_def'):\n",
    "        outputs, _states = tf.nn.dynamic_rnn(\n",
    "            multi_cell, X_one_hot, dtype=tf.float32, sequence_length=Sequences)\n",
    "\n",
    "elif type == \"bimul\":\n",
    "    print('\\n****** Bidirectional LSTM start ******')\n",
    "\n",
    "    with tf.variable_scope('cell_def'):\n",
    "        forward = tf.nn.rnn_cell.BasicLSTMCell(num_units=hidden_size, state_is_tuple=True)\n",
    "        forward = tf.nn.rnn_cell.DropoutWrapper(forward, output_keep_prob=keep_prob)\n",
    "        backward = tf.nn.rnn_cell.BasicLSTMCell(num_units=hidden_size, state_is_tuple=True)\n",
    "        backward = tf.nn.rnn_cell.DropoutWrapper(backward, output_keep_prob=keep_prob)\n",
    "\n",
    "    with tf.variable_scope('rnn_def'):\n",
    "        outputs, states = tf.nn.bidirectional_dynamic_rnn(forward, backward, inputs=X_one_hot, dtype=tf.float32,\n",
    "                                                          sequence_length=Sequences)\n",
    "        outputs = tf.concat(values=outputs, axis=2)\n",
    "\n",
    "model = tf.layers.dense(outputs, modelconfig.output_size, activation=None)\n",
    "cost = tf.reduce_mean(tf.nn.sparse_softmax_cross_entropy_with_logits(logits=model, labels=Y))\n",
    "prediction = tf.argmax(model, axis=2)\n",
    "\n",
    "optimizer = tf.train.AdamOptimizer(learning_rate=0.001).minimize(cost)\n"
   ]
  },
  {
   "cell_type": "markdown",
   "metadata": {},
   "source": [
    "### Training \n",
    "위에 구성한 tensor graph 를 training 해준다. \n",
    "  \n",
    "epoch 25 단위마다, training data 중 10프로로 미리 구성된 validation data 를 사용하여,  \n",
    "현재 결과를 evaluation 한다.  \n"
   ]
  },
  {
   "cell_type": "code",
   "execution_count": 13,
   "metadata": {},
   "outputs": [
    {
     "name": "stdout",
     "output_type": "stream",
     "text": [
      "\n",
      "------------ Training ------------ \n",
      "Epoch: 0025   accuracy = 0.978235   cost = 0.192204 speed = 13.67 sec\n",
      "Key: \u001b[31m<nop>\u001b[0m\tPrec: \u001b[32m 97.8\u001b[0m%\tRecall: \u001b[32m100.0\u001b[0m%\tF-Score: \u001b[32m 98.9\u001b[0m\u001b[0m\n",
      "Key: \u001b[31m  .\u001b[0m\tPrec: \u001b[32m  0.0\u001b[0m%\tRecall: \u001b[32m  0.0\u001b[0m%\tF-Score: \u001b[32m  0.0\u001b[0m\u001b[0m\n",
      "Key: \u001b[31m  ,\u001b[0m\tPrec: \u001b[32m  0.0\u001b[0m%\tRecall: \u001b[32m  0.0\u001b[0m%\tF-Score: \u001b[32m  0.0\u001b[0m\u001b[0m\n",
      "\n"
     ]
    },
    {
     "name": "stderr",
     "output_type": "stream",
     "text": [
      "/home/nbuser/anaconda3_410/lib/python3.5/site-packages/sklearn/metrics/classification.py:1113: UndefinedMetricWarning: Precision and F-score are ill-defined and being set to 0.0 in labels with no predicted samples.\n",
      "  'precision', 'predicted', average, warn_for)\n",
      "/home/nbuser/anaconda3_410/lib/python3.5/site-packages/sklearn/metrics/classification.py:1115: UndefinedMetricWarning: Recall and F-score are ill-defined and being set to 0.0 in labels with no true samples.\n",
      "  'recall', 'true', average, warn_for)\n"
     ]
    },
    {
     "name": "stdout",
     "output_type": "stream",
     "text": [
      "Epoch: 0050   accuracy = 0.978235   cost = 0.182349 speed = 12.98 sec\n",
      "Key: \u001b[31m<nop>\u001b[0m\tPrec: \u001b[32m 97.8\u001b[0m%\tRecall: \u001b[32m100.0\u001b[0m%\tF-Score: \u001b[32m 98.9\u001b[0m\u001b[0m\n",
      "Key: \u001b[31m  .\u001b[0m\tPrec: \u001b[32m  0.0\u001b[0m%\tRecall: \u001b[32m  0.0\u001b[0m%\tF-Score: \u001b[32m  0.0\u001b[0m\u001b[0m\n",
      "Key: \u001b[31m  ,\u001b[0m\tPrec: \u001b[32m  0.0\u001b[0m%\tRecall: \u001b[32m  0.0\u001b[0m%\tF-Score: \u001b[32m  0.0\u001b[0m\u001b[0m\n",
      "\n",
      "Epoch: 0075   accuracy = 0.978235   cost = 0.175699 speed = 14.22 sec\n",
      "Key: \u001b[31m<nop>\u001b[0m\tPrec: \u001b[32m 97.8\u001b[0m%\tRecall: \u001b[32m100.0\u001b[0m%\tF-Score: \u001b[32m 98.9\u001b[0m\u001b[0m\n",
      "Key: \u001b[31m  .\u001b[0m\tPrec: \u001b[32m  0.0\u001b[0m%\tRecall: \u001b[32m  0.0\u001b[0m%\tF-Score: \u001b[32m  0.0\u001b[0m\u001b[0m\n",
      "Key: \u001b[31m  ,\u001b[0m\tPrec: \u001b[32m  0.0\u001b[0m%\tRecall: \u001b[32m  0.0\u001b[0m%\tF-Score: \u001b[32m  0.0\u001b[0m\u001b[0m\n",
      "\n",
      "Epoch: 0100   accuracy = 0.978235   cost = 0.170002 speed = 12.96 sec\n",
      "Key: \u001b[31m<nop>\u001b[0m\tPrec: \u001b[32m 97.8\u001b[0m%\tRecall: \u001b[32m100.0\u001b[0m%\tF-Score: \u001b[32m 98.9\u001b[0m\u001b[0m\n",
      "Key: \u001b[31m  .\u001b[0m\tPrec: \u001b[32m  0.0\u001b[0m%\tRecall: \u001b[32m  0.0\u001b[0m%\tF-Score: \u001b[32m  0.0\u001b[0m\u001b[0m\n",
      "Key: \u001b[31m  ,\u001b[0m\tPrec: \u001b[32m  0.0\u001b[0m%\tRecall: \u001b[32m  0.0\u001b[0m%\tF-Score: \u001b[32m  0.0\u001b[0m\u001b[0m\n",
      "\n",
      "Epoch: 0125   accuracy = 0.978235   cost = 0.154867 speed = 13.44 sec\n",
      "Key: \u001b[31m<nop>\u001b[0m\tPrec: \u001b[32m 97.8\u001b[0m%\tRecall: \u001b[32m100.0\u001b[0m%\tF-Score: \u001b[32m 98.9\u001b[0m\u001b[0m\n",
      "Key: \u001b[31m  .\u001b[0m\tPrec: \u001b[32m  0.0\u001b[0m%\tRecall: \u001b[32m  0.0\u001b[0m%\tF-Score: \u001b[32m  0.0\u001b[0m\u001b[0m\n",
      "Key: \u001b[31m  ,\u001b[0m\tPrec: \u001b[32m  0.0\u001b[0m%\tRecall: \u001b[32m  0.0\u001b[0m%\tF-Score: \u001b[32m  0.0\u001b[0m\u001b[0m\n",
      "\n",
      "Epoch: 0150   accuracy = 0.978235   cost = 0.129976 speed = 13.03 sec\n",
      "Key: \u001b[31m<nop>\u001b[0m\tPrec: \u001b[32m 97.8\u001b[0m%\tRecall: \u001b[32m100.0\u001b[0m%\tF-Score: \u001b[32m 98.9\u001b[0m\u001b[0m\n",
      "Key: \u001b[31m  .\u001b[0m\tPrec: \u001b[32m  0.0\u001b[0m%\tRecall: \u001b[32m  0.0\u001b[0m%\tF-Score: \u001b[32m  0.0\u001b[0m\u001b[0m\n",
      "Key: \u001b[31m  ,\u001b[0m\tPrec: \u001b[32m  0.0\u001b[0m%\tRecall: \u001b[32m  0.0\u001b[0m%\tF-Score: \u001b[32m  0.0\u001b[0m\u001b[0m\n",
      "\n",
      "Epoch: 0175   accuracy = 0.986471   cost = 0.104271 speed = 12.86 sec\n",
      "Key: \u001b[31m<nop>\u001b[0m\tPrec: \u001b[32m 98.6\u001b[0m%\tRecall: \u001b[32m100.0\u001b[0m%\tF-Score: \u001b[32m 99.3\u001b[0m\u001b[0m\n",
      "Key: \u001b[31m  .\u001b[0m\tPrec: \u001b[32m 64.7\u001b[0m%\tRecall: \u001b[32m 48.0\u001b[0m%\tF-Score: \u001b[32m 53.7\u001b[0m\u001b[0m\n",
      "Key: \u001b[31m  ,\u001b[0m\tPrec: \u001b[32m  0.0\u001b[0m%\tRecall: \u001b[32m  0.0\u001b[0m%\tF-Score: \u001b[32m  0.0\u001b[0m\u001b[0m\n",
      "\n",
      "Epoch: 0200   accuracy = 0.992941   cost = 0.089141 speed = 14.12 sec\n",
      "Key: \u001b[31m<nop>\u001b[0m\tPrec: \u001b[32m 99.3\u001b[0m%\tRecall: \u001b[32m100.0\u001b[0m%\tF-Score: \u001b[32m 99.6\u001b[0m\u001b[0m\n",
      "Key: \u001b[31m  .\u001b[0m\tPrec: \u001b[32m100.0\u001b[0m%\tRecall: \u001b[32m 89.2\u001b[0m%\tF-Score: \u001b[32m 92.9\u001b[0m\u001b[0m\n",
      "Key: \u001b[31m  ,\u001b[0m\tPrec: \u001b[32m  0.0\u001b[0m%\tRecall: \u001b[32m  0.0\u001b[0m%\tF-Score: \u001b[32m  0.0\u001b[0m\u001b[0m\n",
      "\n",
      "Epoch: 0225   accuracy = 0.994118   cost = 0.078152 speed = 13.29 sec\n",
      "Key: \u001b[31m<nop>\u001b[0m\tPrec: \u001b[32m 99.5\u001b[0m%\tRecall: \u001b[32m 99.9\u001b[0m%\tF-Score: \u001b[32m 99.7\u001b[0m\u001b[0m\n",
      "Key: \u001b[31m  .\u001b[0m\tPrec: \u001b[32m 97.1\u001b[0m%\tRecall: \u001b[32m 97.1\u001b[0m%\tF-Score: \u001b[32m 96.1\u001b[0m\u001b[0m\n",
      "Key: \u001b[31m  ,\u001b[0m\tPrec: \u001b[32m  0.0\u001b[0m%\tRecall: \u001b[32m  0.0\u001b[0m%\tF-Score: \u001b[32m  0.0\u001b[0m\u001b[0m\n",
      "\n",
      "Epoch: 0250   accuracy = 0.994118   cost = 0.072952 speed = 14.06 sec\n",
      "Key: \u001b[31m<nop>\u001b[0m\tPrec: \u001b[32m 99.4\u001b[0m%\tRecall: \u001b[32m100.0\u001b[0m%\tF-Score: \u001b[32m 99.7\u001b[0m\u001b[0m\n",
      "Key: \u001b[31m  .\u001b[0m\tPrec: \u001b[32m100.0\u001b[0m%\tRecall: \u001b[32m 94.1\u001b[0m%\tF-Score: \u001b[32m 96.1\u001b[0m\u001b[0m\n",
      "Key: \u001b[31m  ,\u001b[0m\tPrec: \u001b[32m  0.0\u001b[0m%\tRecall: \u001b[32m  0.0\u001b[0m%\tF-Score: \u001b[32m  0.0\u001b[0m\u001b[0m\n",
      "\n",
      "Epoch: 0275   accuracy = 0.993529   cost = 0.066220 speed = 13.40 sec\n",
      "Key: \u001b[31m<nop>\u001b[0m\tPrec: \u001b[32m 99.4\u001b[0m%\tRecall: \u001b[32m 99.9\u001b[0m%\tF-Score: \u001b[32m 99.7\u001b[0m\u001b[0m\n",
      "Key: \u001b[31m  .\u001b[0m\tPrec: \u001b[32m 97.1\u001b[0m%\tRecall: \u001b[32m 94.1\u001b[0m%\tF-Score: \u001b[32m 94.1\u001b[0m\u001b[0m\n",
      "Key: \u001b[31m  ,\u001b[0m\tPrec: \u001b[32m  0.0\u001b[0m%\tRecall: \u001b[32m  0.0\u001b[0m%\tF-Score: \u001b[32m  0.0\u001b[0m\u001b[0m\n",
      "\n",
      "Epoch: 0300   accuracy = 0.994118   cost = 0.062414 speed = 13.92 sec\n",
      "Key: \u001b[31m<nop>\u001b[0m\tPrec: \u001b[32m 99.5\u001b[0m%\tRecall: \u001b[32m100.0\u001b[0m%\tF-Score: \u001b[32m 99.7\u001b[0m\u001b[0m\n",
      "Key: \u001b[31m  .\u001b[0m\tPrec: \u001b[32m100.0\u001b[0m%\tRecall: \u001b[32m 94.1\u001b[0m%\tF-Score: \u001b[32m 96.1\u001b[0m\u001b[0m\n",
      "Key: \u001b[31m  ,\u001b[0m\tPrec: \u001b[32m  0.0\u001b[0m%\tRecall: \u001b[32m  0.0\u001b[0m%\tF-Score: \u001b[32m  0.0\u001b[0m\u001b[0m\n",
      "\n",
      "Epoch: 0325   accuracy = 0.994706   cost = 0.060192 speed = 13.05 sec\n",
      "Key: \u001b[31m<nop>\u001b[0m\tPrec: \u001b[32m 99.5\u001b[0m%\tRecall: \u001b[32m100.0\u001b[0m%\tF-Score: \u001b[32m 99.8\u001b[0m\u001b[0m\n",
      "Key: \u001b[31m  .\u001b[0m\tPrec: \u001b[32m100.0\u001b[0m%\tRecall: \u001b[32m 94.1\u001b[0m%\tF-Score: \u001b[32m 96.1\u001b[0m\u001b[0m\n",
      "Key: \u001b[31m  ,\u001b[0m\tPrec: \u001b[32m  5.9\u001b[0m%\tRecall: \u001b[32m  2.9\u001b[0m%\tF-Score: \u001b[32m  3.9\u001b[0m\u001b[0m\n",
      "\n",
      "Epoch: 0350   accuracy = 0.995294   cost = 0.055923 speed = 13.46 sec\n",
      "Key: \u001b[31m<nop>\u001b[0m\tPrec: \u001b[32m 99.6\u001b[0m%\tRecall: \u001b[32m 99.9\u001b[0m%\tF-Score: \u001b[32m 99.8\u001b[0m\u001b[0m\n",
      "Key: \u001b[31m  .\u001b[0m\tPrec: \u001b[32m 97.1\u001b[0m%\tRecall: \u001b[32m 94.1\u001b[0m%\tF-Score: \u001b[32m 95.1\u001b[0m\u001b[0m\n",
      "Key: \u001b[31m  ,\u001b[0m\tPrec: \u001b[32m 11.8\u001b[0m%\tRecall: \u001b[32m 11.8\u001b[0m%\tF-Score: \u001b[32m 11.8\u001b[0m\u001b[0m\n",
      "\n",
      "Epoch: 0375   accuracy = 0.992941   cost = 0.052301 speed = 12.89 sec\n",
      "Key: \u001b[31m<nop>\u001b[0m\tPrec: \u001b[32m 99.6\u001b[0m%\tRecall: \u001b[32m 99.7\u001b[0m%\tF-Score: \u001b[32m 99.7\u001b[0m\u001b[0m\n",
      "Key: \u001b[31m  .\u001b[0m\tPrec: \u001b[32m 97.1\u001b[0m%\tRecall: \u001b[32m 94.1\u001b[0m%\tF-Score: \u001b[32m 95.1\u001b[0m\u001b[0m\n",
      "Key: \u001b[31m  ,\u001b[0m\tPrec: \u001b[32m 11.8\u001b[0m%\tRecall: \u001b[32m 11.8\u001b[0m%\tF-Score: \u001b[32m 11.8\u001b[0m\u001b[0m\n",
      "\n",
      "Epoch: 0400   accuracy = 0.994118   cost = 0.050196 speed = 12.69 sec\n",
      "Key: \u001b[31m<nop>\u001b[0m\tPrec: \u001b[32m 99.6\u001b[0m%\tRecall: \u001b[32m 99.9\u001b[0m%\tF-Score: \u001b[32m 99.7\u001b[0m\u001b[0m\n",
      "Key: \u001b[31m  .\u001b[0m\tPrec: \u001b[32m100.0\u001b[0m%\tRecall: \u001b[32m 94.1\u001b[0m%\tF-Score: \u001b[32m 96.1\u001b[0m\u001b[0m\n",
      "Key: \u001b[31m  ,\u001b[0m\tPrec: \u001b[32m 11.8\u001b[0m%\tRecall: \u001b[32m  8.8\u001b[0m%\tF-Score: \u001b[32m  9.8\u001b[0m\u001b[0m\n",
      "\n",
      "Epoch: 0425   accuracy = 0.993529   cost = 0.046820 speed = 13.75 sec\n",
      "Key: \u001b[31m<nop>\u001b[0m\tPrec: \u001b[32m 99.6\u001b[0m%\tRecall: \u001b[32m 99.8\u001b[0m%\tF-Score: \u001b[32m 99.7\u001b[0m\u001b[0m\n",
      "Key: \u001b[31m  .\u001b[0m\tPrec: \u001b[32m 97.1\u001b[0m%\tRecall: \u001b[32m 94.1\u001b[0m%\tF-Score: \u001b[32m 95.1\u001b[0m\u001b[0m\n",
      "Key: \u001b[31m  ,\u001b[0m\tPrec: \u001b[32m 11.8\u001b[0m%\tRecall: \u001b[32m 11.8\u001b[0m%\tF-Score: \u001b[32m 11.8\u001b[0m\u001b[0m\n",
      "\n",
      "Epoch: 0450   accuracy = 0.992353   cost = 0.043544 speed = 12.76 sec\n",
      "Key: \u001b[31m<nop>\u001b[0m\tPrec: \u001b[32m 99.6\u001b[0m%\tRecall: \u001b[32m 99.6\u001b[0m%\tF-Score: \u001b[32m 99.6\u001b[0m\u001b[0m\n",
      "Key: \u001b[31m  .\u001b[0m\tPrec: \u001b[32m 97.1\u001b[0m%\tRecall: \u001b[32m 97.1\u001b[0m%\tF-Score: \u001b[32m 97.1\u001b[0m\u001b[0m\n",
      "Key: \u001b[31m  ,\u001b[0m\tPrec: \u001b[32m  9.8\u001b[0m%\tRecall: \u001b[32m 11.8\u001b[0m%\tF-Score: \u001b[32m 10.6\u001b[0m\u001b[0m\n",
      "\n",
      "Epoch: 0475   accuracy = 0.993529   cost = 0.040898 speed = 13.78 sec\n",
      "Key: \u001b[31m<nop>\u001b[0m\tPrec: \u001b[32m 99.6\u001b[0m%\tRecall: \u001b[32m 99.8\u001b[0m%\tF-Score: \u001b[32m 99.7\u001b[0m\u001b[0m\n",
      "Key: \u001b[31m  .\u001b[0m\tPrec: \u001b[32m 97.1\u001b[0m%\tRecall: \u001b[32m 94.1\u001b[0m%\tF-Score: \u001b[32m 95.1\u001b[0m\u001b[0m\n",
      "Key: \u001b[31m  ,\u001b[0m\tPrec: \u001b[32m 11.8\u001b[0m%\tRecall: \u001b[32m 11.8\u001b[0m%\tF-Score: \u001b[32m 11.8\u001b[0m\u001b[0m\n",
      "\n",
      "Epoch: 0500   accuracy = 0.993529   cost = 0.048029 speed = 13.31 sec\n",
      "Key: \u001b[31m<nop>\u001b[0m\tPrec: \u001b[32m 99.6\u001b[0m%\tRecall: \u001b[32m 99.8\u001b[0m%\tF-Score: \u001b[32m 99.7\u001b[0m\u001b[0m\n",
      "Key: \u001b[31m  .\u001b[0m\tPrec: \u001b[32m 97.1\u001b[0m%\tRecall: \u001b[32m 94.1\u001b[0m%\tF-Score: \u001b[32m 95.1\u001b[0m\u001b[0m\n",
      "Key: \u001b[31m  ,\u001b[0m\tPrec: \u001b[32m 11.8\u001b[0m%\tRecall: \u001b[32m 11.8\u001b[0m%\tF-Score: \u001b[32m 11.8\u001b[0m\u001b[0m\n",
      "\n"
     ]
    }
   ],
   "source": [
    "import time\n",
    "\n",
    "sess = tf.Session()\n",
    "sess.run(tf.global_variables_initializer())\n",
    "\n",
    "eval = utils.Evaluation(type, modelconfig.epoch, 25)\n",
    "\n",
    "print('\\n------------ Training ------------ ')\n",
    "last_time = time.time()\n",
    "for epoch in range(modelconfig.epoch):\n",
    "\n",
    "    _, loss = sess.run([optimizer, cost], feed_dict={X: input_batch,\n",
    "                                                     Y: target_batch,\n",
    "                                                     Sequences: seq_lens,\n",
    "                                                     keep_prob: 0.8})\n",
    "    if epoch % 25 == 24:\n",
    "        result = sess.run(prediction, feed_dict={X: valid_dataset.input_batch,\n",
    "                                                 Y: valid_dataset.target_batch,\n",
    "                                                 Sequences: valid_dataset.seq_lens,\n",
    "                                                 keep_prob: 1})\n",
    "        accuracy = tf.reduce_mean(tf.cast(tf.equal(result, tf.cast(Y, tf.int64)), tf.float32))\n",
    "        accuracy_ret = sess.run(accuracy, feed_dict={Y: valid_dataset.target_batch})\n",
    "        speed = time.time() - last_time\n",
    "        print('Epoch:', '%04d  ' % (epoch + 1),\n",
    "              'accuracy =', '{:.6f}  '.format(accuracy_ret),\n",
    "              'cost =', '{:.6f}'.format(loss),\n",
    "              'speed =', '{:.2f}'.format(speed), 'sec')\n",
    "        last_time = time.time()\n",
    "        avg_p, avg_r, avg_f = utils.print_evaluation(valid_dataset.target_batch, result, output_char2vec.char_dict)\n",
    "        eval.set(epoch, accuracy_ret, loss, speed, avg_p, avg_r, avg_f)\n",
    "        print('')"
   ]
  },
  {
   "cell_type": "markdown",
   "metadata": {},
   "source": [
    "### Testing \n",
    "\n",
    "아래와 같이 training 에 사용하지 않고 따로 준비한 data 로  \n",
    "실제 training 결과를 성능 지표 및 실제 문장으로 출력해본다."
   ]
  },
  {
   "cell_type": "code",
   "execution_count": 14,
   "metadata": {
    "scrolled": true
   },
   "outputs": [
    {
     "name": "stdout",
     "output_type": "stream",
     "text": [
      "\n",
      "------------ Testing ------------ \n",
      "length of paragraph:  12  characters:  1535\n",
      "Accuracy = 0.993750\n",
      "target sentence:     글을 쓰는 것은 혼자만의 일이 아니었다. 한 문장을 쓸 때마다  마음 속에 자리잡고 있는 수많은 독자들의 눈이 나를 감시하였다. 그래서인지 이 책을  다 완성하였을 때 느낀 감정은  \n",
      "prediction sentence: 글을 쓰는 것은 혼자만의 일이 아니었다. 한 문장을 쓸 때마다.  마음 속에 자리잡고 있는 수많은 독자들의 눈이 나를 감시하였다. 그래서인지 이 책을  다 완성하였을 때 느낀 감정은  \n",
      "target sentence:      탈고의 기쁨보다는 감시의 눈초리로부터 벗어났다는 해방감이었다. 사람들은 많은 생각을 갖고 있다. 보통 사람들의 머리 속에는  책 몇 권 분량에 해당하는 많은 생각이 들어 있다.    \n",
      "prediction sentence:  탈고의 기쁨보다는 감시의 눈초리로부터 벗어났다는 해방감이었다. 사람들은 많은 생각을 갖고 있다. 보통 사람들의 머리 속에는  책 몇 권 분량에 해당하는 많은 생각이 들어 있다    \n",
      "Key: \u001b[31m<nop>\u001b[0m\tPrec: \u001b[32m 99.6\u001b[0m%\tRecall: \u001b[32m 99.7\u001b[0m%\tF-Score: \u001b[32m 99.7\u001b[0m\u001b[0m\n",
      "Key: \u001b[31m  .\u001b[0m\tPrec: \u001b[32m 97.9\u001b[0m%\tRecall: \u001b[32m 94.8\u001b[0m%\tF-Score: \u001b[32m 95.4\u001b[0m\u001b[0m\n",
      "Key: \u001b[31m  ,\u001b[0m\tPrec: \u001b[32m  0.0\u001b[0m%\tRecall: \u001b[32m  0.0\u001b[0m%\tF-Score: \u001b[32m  0.0\u001b[0m\u001b[0m\n"
     ]
    },
    {
     "name": "stderr",
     "output_type": "stream",
     "text": [
      "/home/nbuser/anaconda3_410/lib/python3.5/site-packages/sklearn/metrics/classification.py:1113: UndefinedMetricWarning: Precision and F-score are ill-defined and being set to 0.0 in labels with no predicted samples.\n",
      "  'precision', 'predicted', average, warn_for)\n",
      "/home/nbuser/anaconda3_410/lib/python3.5/site-packages/sklearn/metrics/classification.py:1115: UndefinedMetricWarning: Recall and F-score are ill-defined and being set to 0.0 in labels with no true samples.\n",
      "  'recall', 'true', average, warn_for)\n"
     ]
    }
   ],
   "source": [
    "print('\\n------------ Testing ------------ ')\n",
    "test_sentences = data.read_data(\"data/test/BHXX0035.txt\", 30)\n",
    "test_dataset, _ = data.make_sequences(test_sentences, char2vec, output_char2vec, seq_length,\n",
    "                                      make_valid=False)\n",
    "\n",
    "result = sess.run(prediction, feed_dict={X: test_dataset.input_batch,\n",
    "                                         Y: test_dataset.target_batch,\n",
    "                                         Sequences: test_dataset.seq_lens,\n",
    "                                         keep_prob: 1})\n",
    "\n",
    "accuracy = tf.reduce_mean(tf.cast(tf.equal(result, tf.cast(Y, tf.int64)), tf.float32))\n",
    "accuracy_ret = sess.run(accuracy, feed_dict={Y: test_dataset.target_batch})\n",
    "\n",
    "print('Accuracy =', '{:.6f}'.format(accuracy_ret))\n",
    "\n",
    "for index, predict_sequence in enumerate(result):\n",
    "    target_output, prediction_output = data.compare_sentence(output_char2vec,\n",
    "                                                             test_dataset.target_batch[index],\n",
    "                                                             test_dataset.input_source[index],\n",
    "                                                             predict_sequence)\n",
    "    if index < 2:\n",
    "        print(\"target sentence:    \", target_output[1])\n",
    "        print(\"prediction sentence:\", prediction_output[1])\n",
    "\n",
    "avg_p, avg_r, avg_f = utils.print_evaluation(test_dataset.target_batch, result, output_char2vec.char_dict)\n",
    "\n",
    "evals[type] = eval"
   ]
  },
  {
   "cell_type": "markdown",
   "metadata": {},
   "source": [
    "### Evaluation \n",
    "evaluation 는 scikit-learn에서 제공하는 API로 precision, recall, f-score를 계산하도록 하였다.  \n",
    "  \n",
    "Bidirectional 모델에 대하여서도 traing을 수행하여\n",
    "위에서 수행한 Multi-layer를 사용한 모델과 비교하여 보았다.  \n",
    "speed 를 제외한 모든 지표에서  \n",
    "bidirectional RNN 의 성능이 우위에 있다는 것을 확인할 수 있다.  "
   ]
  },
  {
   "cell_type": "code",
   "execution_count": 15,
   "metadata": {},
   "outputs": [
    {
     "name": "stdout",
     "output_type": "stream",
     "text": [
      "\n",
      "****** Bidirectional LSTM Initialize ******\n",
      "\n",
      "------------ Training ------------ \n",
      "Epoch: 0025   accuracy = 0.978235   cost = 0.153108 speed = 21.41 sec\n",
      "Key: \u001b[31m<nop>\u001b[0m\tPrec: \u001b[32m 97.8\u001b[0m%\tRecall: \u001b[32m100.0\u001b[0m%\tF-Score: \u001b[32m 98.9\u001b[0m\u001b[0m\n",
      "Key: \u001b[31m  .\u001b[0m\tPrec: \u001b[32m  0.0\u001b[0m%\tRecall: \u001b[32m  0.0\u001b[0m%\tF-Score: \u001b[32m  0.0\u001b[0m\u001b[0m\n",
      "Key: \u001b[31m  ,\u001b[0m\tPrec: \u001b[32m  0.0\u001b[0m%\tRecall: \u001b[32m  0.0\u001b[0m%\tF-Score: \u001b[32m  0.0\u001b[0m\u001b[0m\n",
      "\n"
     ]
    },
    {
     "name": "stderr",
     "output_type": "stream",
     "text": [
      "/home/nbuser/anaconda3_410/lib/python3.5/site-packages/sklearn/metrics/classification.py:1113: UndefinedMetricWarning: Precision and F-score are ill-defined and being set to 0.0 in labels with no predicted samples.\n",
      "  'precision', 'predicted', average, warn_for)\n",
      "/home/nbuser/anaconda3_410/lib/python3.5/site-packages/sklearn/metrics/classification.py:1115: UndefinedMetricWarning: Recall and F-score are ill-defined and being set to 0.0 in labels with no true samples.\n",
      "  'recall', 'true', average, warn_for)\n"
     ]
    },
    {
     "name": "stdout",
     "output_type": "stream",
     "text": [
      "Epoch: 0050   accuracy = 0.978235   cost = 0.130101 speed = 30.60 sec\n",
      "Key: \u001b[31m<nop>\u001b[0m\tPrec: \u001b[32m 97.8\u001b[0m%\tRecall: \u001b[32m100.0\u001b[0m%\tF-Score: \u001b[32m 98.9\u001b[0m\u001b[0m\n",
      "Key: \u001b[31m  .\u001b[0m\tPrec: \u001b[32m  0.0\u001b[0m%\tRecall: \u001b[32m  0.0\u001b[0m%\tF-Score: \u001b[32m  0.0\u001b[0m\u001b[0m\n",
      "Key: \u001b[31m  ,\u001b[0m\tPrec: \u001b[32m  0.0\u001b[0m%\tRecall: \u001b[32m  0.0\u001b[0m%\tF-Score: \u001b[32m  0.0\u001b[0m\u001b[0m\n",
      "\n",
      "Epoch: 0075   accuracy = 0.980000   cost = 0.090249 speed = 28.07 sec\n",
      "Key: \u001b[31m<nop>\u001b[0m\tPrec: \u001b[32m 98.0\u001b[0m%\tRecall: \u001b[32m100.0\u001b[0m%\tF-Score: \u001b[32m 99.0\u001b[0m\u001b[0m\n",
      "Key: \u001b[31m  .\u001b[0m\tPrec: \u001b[32m 17.6\u001b[0m%\tRecall: \u001b[32m  7.8\u001b[0m%\tF-Score: \u001b[32m 10.8\u001b[0m\u001b[0m\n",
      "Key: \u001b[31m  ,\u001b[0m\tPrec: \u001b[32m  0.0\u001b[0m%\tRecall: \u001b[32m  0.0\u001b[0m%\tF-Score: \u001b[32m  0.0\u001b[0m\u001b[0m\n",
      "\n",
      "Epoch: 0100   accuracy = 0.994118   cost = 0.062448 speed = 28.33 sec\n",
      "Key: \u001b[31m<nop>\u001b[0m\tPrec: \u001b[32m 99.4\u001b[0m%\tRecall: \u001b[32m100.0\u001b[0m%\tF-Score: \u001b[32m 99.7\u001b[0m\u001b[0m\n",
      "Key: \u001b[31m  .\u001b[0m\tPrec: \u001b[32m100.0\u001b[0m%\tRecall: \u001b[32m 91.2\u001b[0m%\tF-Score: \u001b[32m 94.1\u001b[0m\u001b[0m\n",
      "Key: \u001b[31m  ,\u001b[0m\tPrec: \u001b[32m  5.9\u001b[0m%\tRecall: \u001b[32m  2.9\u001b[0m%\tF-Score: \u001b[32m  3.9\u001b[0m\u001b[0m\n",
      "\n",
      "Epoch: 0125   accuracy = 0.995294   cost = 0.050172 speed = 28.58 sec\n",
      "Key: \u001b[31m<nop>\u001b[0m\tPrec: \u001b[32m 99.7\u001b[0m%\tRecall: \u001b[32m 99.8\u001b[0m%\tF-Score: \u001b[32m 99.8\u001b[0m\u001b[0m\n",
      "Key: \u001b[31m  .\u001b[0m\tPrec: \u001b[32m100.0\u001b[0m%\tRecall: \u001b[32m100.0\u001b[0m%\tF-Score: \u001b[32m100.0\u001b[0m\u001b[0m\n",
      "Key: \u001b[31m  ,\u001b[0m\tPrec: \u001b[32m  9.8\u001b[0m%\tRecall: \u001b[32m  7.8\u001b[0m%\tF-Score: \u001b[32m  7.6\u001b[0m\u001b[0m\n",
      "\n",
      "Epoch: 0150   accuracy = 0.995294   cost = 0.041801 speed = 27.97 sec\n",
      "Key: \u001b[31m<nop>\u001b[0m\tPrec: \u001b[32m 99.7\u001b[0m%\tRecall: \u001b[32m 99.8\u001b[0m%\tF-Score: \u001b[32m 99.8\u001b[0m\u001b[0m\n",
      "Key: \u001b[31m  .\u001b[0m\tPrec: \u001b[32m 98.5\u001b[0m%\tRecall: \u001b[32m100.0\u001b[0m%\tF-Score: \u001b[32m 99.2\u001b[0m\u001b[0m\n",
      "Key: \u001b[31m  ,\u001b[0m\tPrec: \u001b[32m 11.8\u001b[0m%\tRecall: \u001b[32m  7.8\u001b[0m%\tF-Score: \u001b[32m  8.8\u001b[0m\u001b[0m\n",
      "\n",
      "Epoch: 0175   accuracy = 0.994706   cost = 0.037469 speed = 27.90 sec\n",
      "Key: \u001b[31m<nop>\u001b[0m\tPrec: \u001b[32m 99.8\u001b[0m%\tRecall: \u001b[32m 99.7\u001b[0m%\tF-Score: \u001b[32m 99.7\u001b[0m\u001b[0m\n",
      "Key: \u001b[31m  .\u001b[0m\tPrec: \u001b[32m 98.5\u001b[0m%\tRecall: \u001b[32m100.0\u001b[0m%\tF-Score: \u001b[32m 99.2\u001b[0m\u001b[0m\n",
      "Key: \u001b[31m  ,\u001b[0m\tPrec: \u001b[32m 15.7\u001b[0m%\tRecall: \u001b[32m 13.7\u001b[0m%\tF-Score: \u001b[32m 13.5\u001b[0m\u001b[0m\n",
      "\n",
      "Epoch: 0200   accuracy = 0.996471   cost = 0.037890 speed = 27.59 sec\n",
      "Key: \u001b[31m<nop>\u001b[0m\tPrec: \u001b[32m 99.8\u001b[0m%\tRecall: \u001b[32m 99.9\u001b[0m%\tF-Score: \u001b[32m 99.8\u001b[0m\u001b[0m\n",
      "Key: \u001b[31m  .\u001b[0m\tPrec: \u001b[32m 98.5\u001b[0m%\tRecall: \u001b[32m100.0\u001b[0m%\tF-Score: \u001b[32m 99.2\u001b[0m\u001b[0m\n",
      "Key: \u001b[31m  ,\u001b[0m\tPrec: \u001b[32m 17.6\u001b[0m%\tRecall: \u001b[32m 13.7\u001b[0m%\tF-Score: \u001b[32m 14.7\u001b[0m\u001b[0m\n",
      "\n",
      "Epoch: 0225   accuracy = 0.993529   cost = 0.031378 speed = 27.82 sec\n",
      "Key: \u001b[31m<nop>\u001b[0m\tPrec: \u001b[32m 99.8\u001b[0m%\tRecall: \u001b[32m 99.6\u001b[0m%\tF-Score: \u001b[32m 99.7\u001b[0m\u001b[0m\n",
      "Key: \u001b[31m  .\u001b[0m\tPrec: \u001b[32m 98.5\u001b[0m%\tRecall: \u001b[32m100.0\u001b[0m%\tF-Score: \u001b[32m 99.2\u001b[0m\u001b[0m\n",
      "Key: \u001b[31m  ,\u001b[0m\tPrec: \u001b[32m 15.7\u001b[0m%\tRecall: \u001b[32m 13.7\u001b[0m%\tF-Score: \u001b[32m 13.5\u001b[0m\u001b[0m\n",
      "\n",
      "Epoch: 0250   accuracy = 0.992941   cost = 0.025672 speed = 27.79 sec\n",
      "Key: \u001b[31m<nop>\u001b[0m\tPrec: \u001b[32m 99.8\u001b[0m%\tRecall: \u001b[32m 99.5\u001b[0m%\tF-Score: \u001b[32m 99.6\u001b[0m\u001b[0m\n",
      "Key: \u001b[31m  .\u001b[0m\tPrec: \u001b[32m 98.5\u001b[0m%\tRecall: \u001b[32m100.0\u001b[0m%\tF-Score: \u001b[32m 99.2\u001b[0m\u001b[0m\n",
      "Key: \u001b[31m  ,\u001b[0m\tPrec: \u001b[32m 21.6\u001b[0m%\tRecall: \u001b[32m 19.6\u001b[0m%\tF-Score: \u001b[32m 19.4\u001b[0m\u001b[0m\n",
      "\n",
      "Epoch: 0275   accuracy = 0.991176   cost = 0.021344 speed = 27.87 sec\n",
      "Key: \u001b[31m<nop>\u001b[0m\tPrec: \u001b[32m 99.8\u001b[0m%\tRecall: \u001b[32m 99.3\u001b[0m%\tF-Score: \u001b[32m 99.5\u001b[0m\u001b[0m\n",
      "Key: \u001b[31m  .\u001b[0m\tPrec: \u001b[32m 98.5\u001b[0m%\tRecall: \u001b[32m 97.1\u001b[0m%\tF-Score: \u001b[32m 97.2\u001b[0m\u001b[0m\n",
      "Key: \u001b[31m  ,\u001b[0m\tPrec: \u001b[32m 18.6\u001b[0m%\tRecall: \u001b[32m 19.6\u001b[0m%\tF-Score: \u001b[32m 17.5\u001b[0m\u001b[0m\n",
      "\n",
      "Epoch: 0300   accuracy = 0.992353   cost = 0.021288 speed = 28.61 sec\n",
      "Key: \u001b[31m<nop>\u001b[0m\tPrec: \u001b[32m 99.8\u001b[0m%\tRecall: \u001b[32m 99.4\u001b[0m%\tF-Score: \u001b[32m 99.6\u001b[0m\u001b[0m\n",
      "Key: \u001b[31m  .\u001b[0m\tPrec: \u001b[32m 98.5\u001b[0m%\tRecall: \u001b[32m100.0\u001b[0m%\tF-Score: \u001b[32m 99.2\u001b[0m\u001b[0m\n",
      "Key: \u001b[31m  ,\u001b[0m\tPrec: \u001b[32m 18.6\u001b[0m%\tRecall: \u001b[32m 19.6\u001b[0m%\tF-Score: \u001b[32m 17.5\u001b[0m\u001b[0m\n",
      "\n",
      "Epoch: 0325   accuracy = 0.992941   cost = 0.018408 speed = 28.59 sec\n",
      "Key: \u001b[31m<nop>\u001b[0m\tPrec: \u001b[32m 99.8\u001b[0m%\tRecall: \u001b[32m 99.5\u001b[0m%\tF-Score: \u001b[32m 99.6\u001b[0m\u001b[0m\n",
      "Key: \u001b[31m  .\u001b[0m\tPrec: \u001b[32m 98.5\u001b[0m%\tRecall: \u001b[32m100.0\u001b[0m%\tF-Score: \u001b[32m 99.2\u001b[0m\u001b[0m\n",
      "Key: \u001b[31m  ,\u001b[0m\tPrec: \u001b[32m 15.7\u001b[0m%\tRecall: \u001b[32m 19.6\u001b[0m%\tF-Score: \u001b[32m 16.9\u001b[0m\u001b[0m\n",
      "\n",
      "Epoch: 0350   accuracy = 0.992941   cost = 0.017126 speed = 27.61 sec\n",
      "Key: \u001b[31m<nop>\u001b[0m\tPrec: \u001b[32m 99.8\u001b[0m%\tRecall: \u001b[32m 99.5\u001b[0m%\tF-Score: \u001b[32m 99.6\u001b[0m\u001b[0m\n",
      "Key: \u001b[31m  .\u001b[0m\tPrec: \u001b[32m 98.5\u001b[0m%\tRecall: \u001b[32m100.0\u001b[0m%\tF-Score: \u001b[32m 99.2\u001b[0m\u001b[0m\n",
      "Key: \u001b[31m  ,\u001b[0m\tPrec: \u001b[32m 12.7\u001b[0m%\tRecall: \u001b[32m 13.7\u001b[0m%\tF-Score: \u001b[32m 12.9\u001b[0m\u001b[0m\n",
      "\n",
      "Epoch: 0375   accuracy = 0.992353   cost = 0.016016 speed = 27.40 sec\n",
      "Key: \u001b[31m<nop>\u001b[0m\tPrec: \u001b[32m 99.8\u001b[0m%\tRecall: \u001b[32m 99.5\u001b[0m%\tF-Score: \u001b[32m 99.6\u001b[0m\u001b[0m\n",
      "Key: \u001b[31m  .\u001b[0m\tPrec: \u001b[32m 98.5\u001b[0m%\tRecall: \u001b[32m100.0\u001b[0m%\tF-Score: \u001b[32m 99.2\u001b[0m\u001b[0m\n",
      "Key: \u001b[31m  ,\u001b[0m\tPrec: \u001b[32m 12.7\u001b[0m%\tRecall: \u001b[32m 13.7\u001b[0m%\tF-Score: \u001b[32m 12.9\u001b[0m\u001b[0m\n",
      "\n",
      "Epoch: 0400   accuracy = 0.991765   cost = 0.015051 speed = 28.05 sec\n",
      "Key: \u001b[31m<nop>\u001b[0m\tPrec: \u001b[32m 99.8\u001b[0m%\tRecall: \u001b[32m 99.4\u001b[0m%\tF-Score: \u001b[32m 99.6\u001b[0m\u001b[0m\n",
      "Key: \u001b[31m  .\u001b[0m\tPrec: \u001b[32m 96.6\u001b[0m%\tRecall: \u001b[32m100.0\u001b[0m%\tF-Score: \u001b[32m 98.0\u001b[0m\u001b[0m\n",
      "Key: \u001b[31m  ,\u001b[0m\tPrec: \u001b[32m 12.7\u001b[0m%\tRecall: \u001b[32m 13.7\u001b[0m%\tF-Score: \u001b[32m 12.9\u001b[0m\u001b[0m\n",
      "\n",
      "Epoch: 0425   accuracy = 0.993529   cost = 0.014208 speed = 28.09 sec\n",
      "Key: \u001b[31m<nop>\u001b[0m\tPrec: \u001b[32m 99.8\u001b[0m%\tRecall: \u001b[32m 99.6\u001b[0m%\tF-Score: \u001b[32m 99.7\u001b[0m\u001b[0m\n",
      "Key: \u001b[31m  .\u001b[0m\tPrec: \u001b[32m 96.6\u001b[0m%\tRecall: \u001b[32m100.0\u001b[0m%\tF-Score: \u001b[32m 98.0\u001b[0m\u001b[0m\n",
      "Key: \u001b[31m  ,\u001b[0m\tPrec: \u001b[32m 17.6\u001b[0m%\tRecall: \u001b[32m 13.7\u001b[0m%\tF-Score: \u001b[32m 14.7\u001b[0m\u001b[0m\n",
      "\n",
      "Epoch: 0450   accuracy = 0.993529   cost = 0.013431 speed = 27.51 sec\n",
      "Key: \u001b[31m<nop>\u001b[0m\tPrec: \u001b[32m 99.8\u001b[0m%\tRecall: \u001b[32m 99.6\u001b[0m%\tF-Score: \u001b[32m 99.7\u001b[0m\u001b[0m\n",
      "Key: \u001b[31m  .\u001b[0m\tPrec: \u001b[32m 98.5\u001b[0m%\tRecall: \u001b[32m100.0\u001b[0m%\tF-Score: \u001b[32m 99.2\u001b[0m\u001b[0m\n",
      "Key: \u001b[31m  ,\u001b[0m\tPrec: \u001b[32m 17.6\u001b[0m%\tRecall: \u001b[32m 13.7\u001b[0m%\tF-Score: \u001b[32m 14.7\u001b[0m\u001b[0m\n",
      "\n",
      "Epoch: 0475   accuracy = 0.994118   cost = 0.012739 speed = 27.83 sec\n",
      "Key: \u001b[31m<nop>\u001b[0m\tPrec: \u001b[32m 99.8\u001b[0m%\tRecall: \u001b[32m 99.6\u001b[0m%\tF-Score: \u001b[32m 99.7\u001b[0m\u001b[0m\n",
      "Key: \u001b[31m  .\u001b[0m\tPrec: \u001b[32m 98.5\u001b[0m%\tRecall: \u001b[32m100.0\u001b[0m%\tF-Score: \u001b[32m 99.2\u001b[0m\u001b[0m\n",
      "Key: \u001b[31m  ,\u001b[0m\tPrec: \u001b[32m 17.6\u001b[0m%\tRecall: \u001b[32m 13.7\u001b[0m%\tF-Score: \u001b[32m 14.7\u001b[0m\u001b[0m\n",
      "\n",
      "Epoch: 0500   accuracy = 0.993529   cost = 0.012115 speed = 27.90 sec\n",
      "Key: \u001b[31m<nop>\u001b[0m\tPrec: \u001b[32m 99.8\u001b[0m%\tRecall: \u001b[32m 99.6\u001b[0m%\tF-Score: \u001b[32m 99.7\u001b[0m\u001b[0m\n",
      "Key: \u001b[31m  .\u001b[0m\tPrec: \u001b[32m 98.5\u001b[0m%\tRecall: \u001b[32m100.0\u001b[0m%\tF-Score: \u001b[32m 99.2\u001b[0m\u001b[0m\n",
      "Key: \u001b[31m  ,\u001b[0m\tPrec: \u001b[32m 17.6\u001b[0m%\tRecall: \u001b[32m 13.7\u001b[0m%\tF-Score: \u001b[32m 14.7\u001b[0m\u001b[0m\n",
      "\n",
      "\n",
      "------------ Testing ------------ \n",
      "length of paragraph:  12  characters:  1535\n",
      "Accuracy = 0.994375\n",
      "target sentence:     글을 쓰는 것은 혼자만의 일이 아니었다. 한 문장을 쓸 때마다  마음 속에 자리잡고 있는 수많은 독자들의 눈이 나를 감시하였다. 그래서인지 이 책을  다 완성하였을 때 느낀 감정은  \n",
      "prediction sentence: 글을 쓰는 것은 혼자만의 일이 아니었다. 한 문장을 쓸 때마다.  마음 속에 자리잡고 있는 수많은 독자들의 눈이 나를 감시하였다. 그래서인지 이 책을  다 완성하였을 때 느낀 감정은  \n",
      "target sentence:      탈고의 기쁨보다는 감시의 눈초리로부터 벗어났다는 해방감이었다. 사람들은 많은 생각을 갖고 있다. 보통 사람들의 머리 속에는  책 몇 권 분량에 해당하는 많은 생각이 들어 있다.    \n",
      "prediction sentence:  탈고의 기쁨보다는 감시의 눈초리로부터 벗어났다는 해방감이었다. 사람들은 많은 생각을 갖고 있다. 보통 사람들의 머리 속에는  책 몇 권 분량에 해당하는 많은 생각이 들어 있다.    \n"
     ]
    },
    {
     "data": {
      "image/png": "[encoded data removed]",
      "text/plain": [
       "<matplotlib.figure.Figure at 0x7ff1382d91d0>"
      ]
     },
     "metadata": {},
     "output_type": "display_data"
    }
   ],
   "source": [
    "import models.rnns as rnns\n",
    "\n",
    "bidir_rnn = rnns.MultiLayerLSTM(modelconfig, char2vec, output_char2vec, text, seq_length=100, type=\"bimul\")\n",
    "evals[types[1]] = bidir_rnn.run()\n",
    "\n",
    "import math, numpy as np, matplotlib.pyplot as plt\n",
    "\n",
    "plt.figure(figsize=(12, 12))\n",
    "\n",
    "keys =list(evals[\"multi\"].total.keys())\n",
    "subplotnum = 321\n",
    "\n",
    "multi_eval = evals[\"multi\"].total\n",
    "bimul_eval = evals[\"bimul\"].total\n",
    "small = 12\n",
    "very_small = 10\n",
    "for key in keys:\n",
    "    plt.subplot(subplotnum)\n",
    "    plt.title(key, fontsize=small)\n",
    "\n",
    "    plt.plot([k[0] for k in multi_eval[key]], [k[1] for k in multi_eval[key]], label='multi')\n",
    "    plt.plot([k[0] for k in bimul_eval[key]], [k[1] for k in bimul_eval[key]], label='bidir')\n",
    "    plt.legend(loc='lower right')\n",
    "    plt.ylabel(key, fontsize=very_small)\n",
    "    plt.xlabel('Epoch', fontsize=very_small)\n",
    "    subplotnum = subplotnum + 1\n",
    "plt.tight_layout()\n",
    "\n",
    "plt.show()\n"
   ]
  },
  {
   "cell_type": "code",
   "execution_count": null,
   "metadata": {},
   "outputs": [
    {
     "name": "stdout",
     "output_type": "stream",
     "text": [
      "length of paragraph:  1104  characters:  190957\n",
      "length of paragraph:  1750  characters:  136090\n",
      "total characters:  327047\n",
      "\n",
      "****** Bidirectional LSTM Initialize ******\n",
      "\n",
      "------------ Training ------------ \n",
      "Epoch: 0025   accuracy = 0.969725   cost = 0.150767 speed = 624.77 sec\n"
     ]
    },
    {
     "name": "stderr",
     "output_type": "stream",
     "text": [
      "/home/nbuser/anaconda3_410/lib/python3.5/site-packages/sklearn/metrics/classification.py:1113: UndefinedMetricWarning: Precision and F-score are ill-defined and being set to 0.0 in labels with no predicted samples.\n",
      "  'precision', 'predicted', average, warn_for)\n",
      "/home/nbuser/anaconda3_410/lib/python3.5/site-packages/sklearn/metrics/classification.py:1115: UndefinedMetricWarning: Recall and F-score are ill-defined and being set to 0.0 in labels with no true samples.\n",
      "  'recall', 'true', average, warn_for)\n"
     ]
    },
    {
     "name": "stdout",
     "output_type": "stream",
     "text": [
      "Key: \u001b[31m<nop>\u001b[0m\tPrec: \u001b[32m 97.0\u001b[0m%\tRecall: \u001b[32m100.0\u001b[0m%\tF-Score: \u001b[32m 98.5\u001b[0m\u001b[0m\n",
      "Key: \u001b[31m  .\u001b[0m\tPrec: \u001b[32m  0.0\u001b[0m%\tRecall: \u001b[32m  0.0\u001b[0m%\tF-Score: \u001b[32m  0.0\u001b[0m\u001b[0m\n",
      "Key: \u001b[31m  ,\u001b[0m\tPrec: \u001b[32m  0.0\u001b[0m%\tRecall: \u001b[32m  0.0\u001b[0m%\tF-Score: \u001b[32m  0.0\u001b[0m\u001b[0m\n",
      "\n",
      "Epoch: 0050   accuracy = 0.969725   cost = 0.134415 speed = 490.95 sec\n",
      "Key: \u001b[31m<nop>\u001b[0m\tPrec: \u001b[32m 97.0\u001b[0m%\tRecall: \u001b[32m100.0\u001b[0m%\tF-Score: \u001b[32m 98.5\u001b[0m\u001b[0m\n",
      "Key: \u001b[31m  .\u001b[0m\tPrec: \u001b[32m  0.0\u001b[0m%\tRecall: \u001b[32m  0.0\u001b[0m%\tF-Score: \u001b[32m  0.0\u001b[0m\u001b[0m\n",
      "Key: \u001b[31m  ,\u001b[0m\tPrec: \u001b[32m  0.0\u001b[0m%\tRecall: \u001b[32m  0.0\u001b[0m%\tF-Score: \u001b[32m  0.0\u001b[0m\u001b[0m\n",
      "\n",
      "Epoch: 0075   accuracy = 0.969725   cost = 0.108051 speed = 523.29 sec\n",
      "Key: \u001b[31m<nop>\u001b[0m\tPrec: \u001b[32m 97.0\u001b[0m%\tRecall: \u001b[32m100.0\u001b[0m%\tF-Score: \u001b[32m 98.5\u001b[0m\u001b[0m\n",
      "Key: \u001b[31m  .\u001b[0m\tPrec: \u001b[32m  0.0\u001b[0m%\tRecall: \u001b[32m  0.0\u001b[0m%\tF-Score: \u001b[32m  0.0\u001b[0m\u001b[0m\n",
      "Key: \u001b[31m  ,\u001b[0m\tPrec: \u001b[32m  0.0\u001b[0m%\tRecall: \u001b[32m  0.0\u001b[0m%\tF-Score: \u001b[32m  0.0\u001b[0m\u001b[0m\n",
      "\n",
      "Epoch: 0100   accuracy = 0.988746   cost = 0.074201 speed = 515.99 sec\n",
      "Key: \u001b[31m<nop>\u001b[0m\tPrec: \u001b[32m 99.0\u001b[0m%\tRecall: \u001b[32m 99.9\u001b[0m%\tF-Score: \u001b[32m 99.4\u001b[0m\u001b[0m\n",
      "Key: \u001b[31m  .\u001b[0m\tPrec: \u001b[32m 92.1\u001b[0m%\tRecall: \u001b[32m 88.6\u001b[0m%\tF-Score: \u001b[32m 89.0\u001b[0m\u001b[0m\n",
      "Key: \u001b[31m  ,\u001b[0m\tPrec: \u001b[32m  0.0\u001b[0m%\tRecall: \u001b[32m  0.0\u001b[0m%\tF-Score: \u001b[32m  0.0\u001b[0m\u001b[0m\n",
      "\n",
      "Epoch: 0125   accuracy = 0.989113   cost = 0.065808 speed = 485.91 sec\n",
      "Key: \u001b[31m<nop>\u001b[0m\tPrec: \u001b[32m 99.0\u001b[0m%\tRecall: \u001b[32m 99.9\u001b[0m%\tF-Score: \u001b[32m 99.4\u001b[0m\u001b[0m\n",
      "Key: \u001b[31m  .\u001b[0m\tPrec: \u001b[32m 92.1\u001b[0m%\tRecall: \u001b[32m 89.9\u001b[0m%\tF-Score: \u001b[32m 89.6\u001b[0m\u001b[0m\n",
      "Key: \u001b[31m  ,\u001b[0m\tPrec: \u001b[32m  0.0\u001b[0m%\tRecall: \u001b[32m  0.0\u001b[0m%\tF-Score: \u001b[32m  0.0\u001b[0m\u001b[0m\n",
      "\n",
      "Epoch: 0150   accuracy = 0.990000   cost = 0.060921 speed = 494.44 sec\n",
      "Key: \u001b[31m<nop>\u001b[0m\tPrec: \u001b[32m 99.0\u001b[0m%\tRecall: \u001b[32m100.0\u001b[0m%\tF-Score: \u001b[32m 99.5\u001b[0m\u001b[0m\n",
      "Key: \u001b[31m  .\u001b[0m\tPrec: \u001b[32m 94.9\u001b[0m%\tRecall: \u001b[32m 90.1\u001b[0m%\tF-Score: \u001b[32m 91.5\u001b[0m\u001b[0m\n",
      "Key: \u001b[31m  ,\u001b[0m\tPrec: \u001b[32m  0.3\u001b[0m%\tRecall: \u001b[32m  0.3\u001b[0m%\tF-Score: \u001b[32m  0.3\u001b[0m\u001b[0m\n",
      "\n",
      "Epoch: 0175   accuracy = 0.989939   cost = 0.057912 speed = 454.27 sec\n",
      "Key: \u001b[31m<nop>\u001b[0m\tPrec: \u001b[32m 99.0\u001b[0m%\tRecall: \u001b[32m 99.9\u001b[0m%\tF-Score: \u001b[32m 99.5\u001b[0m\u001b[0m\n",
      "Key: \u001b[31m  .\u001b[0m\tPrec: \u001b[32m 94.4\u001b[0m%\tRecall: \u001b[32m 90.3\u001b[0m%\tF-Score: \u001b[32m 91.3\u001b[0m\u001b[0m\n",
      "Key: \u001b[31m  ,\u001b[0m\tPrec: \u001b[32m  1.5\u001b[0m%\tRecall: \u001b[32m  1.2\u001b[0m%\tF-Score: \u001b[32m  1.3\u001b[0m\u001b[0m\n",
      "\n",
      "Epoch: 0200   accuracy = 0.989021   cost = 0.056231 speed = 442.68 sec\n",
      "Key: \u001b[31m<nop>\u001b[0m\tPrec: \u001b[32m 98.9\u001b[0m%\tRecall: \u001b[32m100.0\u001b[0m%\tF-Score: \u001b[32m 99.4\u001b[0m\u001b[0m\n",
      "Key: \u001b[31m  .\u001b[0m\tPrec: \u001b[32m 94.4\u001b[0m%\tRecall: \u001b[32m 85.6\u001b[0m%\tF-Score: \u001b[32m 88.5\u001b[0m\u001b[0m\n",
      "Key: \u001b[31m  ,\u001b[0m\tPrec: \u001b[32m  1.8\u001b[0m%\tRecall: \u001b[32m  1.3\u001b[0m%\tF-Score: \u001b[32m  1.4\u001b[0m\u001b[0m\n",
      "\n",
      "Epoch: 0225   accuracy = 0.989816   cost = 0.053498 speed = 447.61 sec\n",
      "Key: \u001b[31m<nop>\u001b[0m\tPrec: \u001b[32m 99.0\u001b[0m%\tRecall: \u001b[32m 99.9\u001b[0m%\tF-Score: \u001b[32m 99.5\u001b[0m\u001b[0m\n",
      "Key: \u001b[31m  .\u001b[0m\tPrec: \u001b[32m 94.9\u001b[0m%\tRecall: \u001b[32m 89.7\u001b[0m%\tF-Score: \u001b[32m 91.2\u001b[0m\u001b[0m\n",
      "Key: \u001b[31m  ,\u001b[0m\tPrec: \u001b[32m  2.8\u001b[0m%\tRecall: \u001b[32m  2.0\u001b[0m%\tF-Score: \u001b[32m  2.2\u001b[0m\u001b[0m\n",
      "\n",
      "Epoch: 0250   accuracy = 0.990000   cost = 0.050572 speed = 458.32 sec\n",
      "Key: \u001b[31m<nop>\u001b[0m\tPrec: \u001b[32m 99.1\u001b[0m%\tRecall: \u001b[32m 99.9\u001b[0m%\tF-Score: \u001b[32m 99.5\u001b[0m\u001b[0m\n",
      "Key: \u001b[31m  .\u001b[0m\tPrec: \u001b[32m 95.6\u001b[0m%\tRecall: \u001b[32m 90.8\u001b[0m%\tF-Score: \u001b[32m 92.1\u001b[0m\u001b[0m\n",
      "Key: \u001b[31m  ,\u001b[0m\tPrec: \u001b[32m  4.3\u001b[0m%\tRecall: \u001b[32m  3.9\u001b[0m%\tF-Score: \u001b[32m  3.8\u001b[0m\u001b[0m\n",
      "\n",
      "Epoch: 0275   accuracy = 0.989939   cost = 0.048422 speed = 451.95 sec\n",
      "Key: \u001b[31m<nop>\u001b[0m\tPrec: \u001b[32m 99.1\u001b[0m%\tRecall: \u001b[32m 99.9\u001b[0m%\tF-Score: \u001b[32m 99.5\u001b[0m\u001b[0m\n",
      "Key: \u001b[31m  .\u001b[0m\tPrec: \u001b[32m 95.3\u001b[0m%\tRecall: \u001b[32m 90.3\u001b[0m%\tF-Score: \u001b[32m 91.7\u001b[0m\u001b[0m\n",
      "Key: \u001b[31m  ,\u001b[0m\tPrec: \u001b[32m  4.9\u001b[0m%\tRecall: \u001b[32m  4.5\u001b[0m%\tF-Score: \u001b[32m  4.4\u001b[0m\u001b[0m\n",
      "\n",
      "Epoch: 0300   accuracy = 0.990398   cost = 0.046138 speed = 443.88 sec\n",
      "Key: \u001b[31m<nop>\u001b[0m\tPrec: \u001b[32m 99.1\u001b[0m%\tRecall: \u001b[32m 99.9\u001b[0m%\tF-Score: \u001b[32m 99.5\u001b[0m\u001b[0m\n",
      "Key: \u001b[31m  .\u001b[0m\tPrec: \u001b[32m 95.3\u001b[0m%\tRecall: \u001b[32m 90.7\u001b[0m%\tF-Score: \u001b[32m 91.9\u001b[0m\u001b[0m\n",
      "Key: \u001b[31m  ,\u001b[0m\tPrec: \u001b[32m  8.9\u001b[0m%\tRecall: \u001b[32m  7.8\u001b[0m%\tF-Score: \u001b[32m  8.0\u001b[0m\u001b[0m\n",
      "\n",
      "Epoch: 0325   accuracy = 0.990550   cost = 0.044604 speed = 457.92 sec\n",
      "Key: \u001b[31m<nop>\u001b[0m\tPrec: \u001b[32m 99.2\u001b[0m%\tRecall: \u001b[32m 99.9\u001b[0m%\tF-Score: \u001b[32m 99.5\u001b[0m\u001b[0m\n",
      "Key: \u001b[31m  .\u001b[0m\tPrec: \u001b[32m 95.6\u001b[0m%\tRecall: \u001b[32m 91.4\u001b[0m%\tF-Score: \u001b[32m 92.5\u001b[0m\u001b[0m\n",
      "Key: \u001b[31m  ,\u001b[0m\tPrec: \u001b[32m  8.9\u001b[0m%\tRecall: \u001b[32m  7.8\u001b[0m%\tF-Score: \u001b[32m  8.0\u001b[0m\u001b[0m\n",
      "\n",
      "Epoch: 0350   accuracy = 0.990612   cost = 0.042248 speed = 446.44 sec\n",
      "Key: \u001b[31m<nop>\u001b[0m\tPrec: \u001b[32m 99.1\u001b[0m%\tRecall: \u001b[32m 99.9\u001b[0m%\tF-Score: \u001b[32m 99.5\u001b[0m\u001b[0m\n",
      "Key: \u001b[31m  .\u001b[0m\tPrec: \u001b[32m 95.6\u001b[0m%\tRecall: \u001b[32m 91.4\u001b[0m%\tF-Score: \u001b[32m 92.5\u001b[0m\u001b[0m\n",
      "Key: \u001b[31m  ,\u001b[0m\tPrec: \u001b[32m  7.5\u001b[0m%\tRecall: \u001b[32m  6.3\u001b[0m%\tF-Score: \u001b[32m  6.5\u001b[0m\u001b[0m\n",
      "\n",
      "Epoch: 0375   accuracy = 0.990336   cost = 0.040591 speed = 440.26 sec\n",
      "Key: \u001b[31m<nop>\u001b[0m\tPrec: \u001b[32m 99.1\u001b[0m%\tRecall: \u001b[32m 99.9\u001b[0m%\tF-Score: \u001b[32m 99.5\u001b[0m\u001b[0m\n",
      "Key: \u001b[31m  .\u001b[0m\tPrec: \u001b[32m 95.7\u001b[0m%\tRecall: \u001b[32m 90.2\u001b[0m%\tF-Score: \u001b[32m 91.8\u001b[0m\u001b[0m\n",
      "Key: \u001b[31m  ,\u001b[0m\tPrec: \u001b[32m  5.8\u001b[0m%\tRecall: \u001b[32m  4.7\u001b[0m%\tF-Score: \u001b[32m  5.0\u001b[0m\u001b[0m\n"
     ]
    }
   ],
   "source": [
    "import data\n",
    "import utils\n",
    "import models.rnns as rnns\n",
    "import models.seq2seq as s2s\n",
    "\n",
    "import models.modelbase as base\n",
    "\n",
    "# text = data.read_data(\"data/training/4BH00005.txt\", 100)\n",
    "text = data.read_large_data(\"data/training\")\n",
    "\n",
    "dic_size = 100\n",
    "input_chars = data.make_input_dic(text, dic_size)\n",
    "output_chars = ['<nop>', '.', ',']\n",
    "\n",
    "char2vec = utils.Char2Vec(chars=input_chars, add_unknown=True)\n",
    "output_char2vec = utils.Char2Vec(chars=output_chars)\n",
    "input_size = char2vec.size\n",
    "output_size = output_char2vec.size\n",
    "\n",
    "# make and run multi layer LSTM network\n",
    "hidden_size = 128\n",
    "\n",
    "rnn_config = base.ModelConfiguration(input_size, hidden_size, output_size, epoch=1000)\n",
    "\n",
    "bidir_rnn = rnns.MultiLayerLSTM(rnn_config, char2vec, output_char2vec, text, seq_length=100, type=\"bimul\")\n",
    "\n",
    "rnn_models = [bidir_rnn]\n",
    "for rnn_model in rnn_models:\n",
    "    rnn_model.run()\n",
    "\n"
   ]
  },
  {
   "cell_type": "markdown",
   "metadata": {},
   "source": [
    "## Conclution \n",
    "마침표의 경우 뚜렷한 패턴이 있으므로, 짧은 트레이닝 주기에서도 상당히 높은 예측률을 얻을 수 있었다. \n",
    "하지만 쉼표의 경우는 예측율이 낮았다. \n",
    "한국어에서 쉼표가 다양한 패턴으로 사용되고, 특히 명사의 나열과 같은 (ex> 사과, 포도, 배 등) 경우의 사용에서는 \n",
    "품사 정보가 있지 않다면, 예측을 하기 어려울 것으로 보인다. \n"
   ]
  },
  {
   "cell_type": "markdown",
   "metadata": {},
   "source": [
    "### TODO \n",
    "\n",
    "1. 파라미터 변경하여 성능 측정  \n",
    "    - Dictionary Size \n",
    "    - Sequence Length \n",
    "    - 고정 길이 Sequence Length vs. 문장 단위 Sequence Length\n",
    "    - Hidden size\n",
    "2. 알고리즘 변경하여 성능 측정 \n",
    "    - Cost function \n",
    "    - Optimization 방법 \n",
    "3. Model 확장 \n",
    "    - 2 layer 이상으로 확장 후 성능 측정 \n",
    "4. Unsupervised Learning \n",
    "    - Unsupervised learning 으로 네트워크 구성"
   ]
  },
  {
   "cell_type": "markdown",
   "metadata": {},
   "source": [
    "### Reference \n",
    "https://github.com/episodeyang/deep-auto-punctuation  \n",
    "http://pythonkim.tistory.com/20\n",
    "http://mazdah.tistory.com/791\n",
    "https://stackoverflow.com/questions/36515202/why-is-the-cross-entropy-method-preferred-over-mean-squared-error-in-what-cases"
   ]
  }
 ],
 "metadata": {
  "kernelspec": {
   "display_name": "Python 3",
   "language": "python",
   "name": "python3"
  },
  "language_info": {
   "codemirror_mode": {
    "name": "ipython",
    "version": 3
   },
   "file_extension": ".py",
   "mimetype": "text/x-python",
   "name": "python",
   "nbconvert_exporter": "python",
   "pygments_lexer": "ipython3",
   "version": "3.5.1"
  }
 },
 "nbformat": 4,
 "nbformat_minor": 1
}
