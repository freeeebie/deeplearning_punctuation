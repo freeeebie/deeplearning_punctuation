{
 "cells": [
  {
   "cell_type": "markdown",
   "metadata": {
    "collapsed": true
   },
   "source": [
    "## 문장 기호 자동 추가\n",
    "문장이 주어졌을 때 문장 부호인 마침표('.')와 쉼표(',') 를 자동으로 추가하는 프로그램을 작성하는 것을 목표로 한다.  \n",
    "이를 수행하기 위하여 복수의 문장을 입력 받아 Deep Learning Network 을 구성하여 training 하고,  \n",
    "예시 문장에 대하여 적용하여 실제 동작을 잘 수행하는지 확인 한다  \n",
    "\n",
    "### data 추상화\n",
    "\n",
    "예를 들면, 아래와 같이 문장이 주어졌다고 가정하자.  \n",
    "'''\n",
    "   \"오늘 걷지 않는다면 내일은 뛰어야 한다\"\n",
    "'''\n",
    "우리가 원하는 결과는 아래와 같을 것이다.  \n",
    "'''\n",
    "   \"오늘 걷지 않는다면, 내일은 뛰어야 한다.\"\n",
    "'''\n",
    "\n",
    "   \n",
    "입력된 문장에서 target 을 아래와 같이 구성한다  \n",
    "\n",
    "```\n",
    " 문자 : '<nop>'  \n",
    "   . : '.'  \n",
    "   , : ','  \n",
    "```\n",
    "\n",
    "즉, 위의 예를 다시 쓰면 아래처럼 될 것이다. \n",
    "```\n",
    "   오 : '<nop>'\n",
    "   늘 : '<nop>'\n",
    "   ... \n",
    "   면 : '<nop>'\n",
    "   , : ','\n",
    "   내 : '<nop>'\n",
    "   ...\n",
    "   다 : '<nop>'\n",
    "   . : '.'\n",
    "```\n",
    "```\n",
    "\"오늘 걷지 않는다면 내일은 뛰어야 한다\"\n",
    "```\n",
    "가 들어오면, \n",
    "<nop>, ',', '.' 로 이루어진 리스트가 출력되는 문제로 추상화할 수 있다. \n",
    "    \n",
    "     \"그러므로 입력 문장에 대하여 이에 대응되는 '<nop>', '.', ',' 로 구성된 출력을 구하는 문제로 정의 할 수 있다.  \\n\",\n",
    "    \"입력은 문장으로 이루어지고, 출력은 세개의 character 로 구성된 list 가 될 것이다.  \\n\",\n",
    "    \"  \\n\",\n",
    "    \"character 단위로 다루면 문장의 의미 파악이 되지 않을 것으로 생각된다. \\n\",\n",
    "    \"더 좋은 결과를 얻기 위하여서는 문장을 해석해서 처리하는 것이 좋을 것 같으나,  \\n\",\n",
    "    \"문제를 단순화 하기 위하여 문장을 character 단위로 다루기로 한다.  \\n\",\n",
    "    \n",
    "### preprocessing \n",
    "\n",
    "입력은 한글로 된 세종 코퍼스에서 입력 받아 처리하였다.  \n",
    "입력된 data 중 <p> </p> 로 묶인 문장만을 사용하였다. \n",
    "\n",
    "\"우선 trainging 을 위하여 입력한 data 를 처리해야 한다. 문장을 입력받으면, 우선 character vector 를 구성한다.  \\n\",\n",
    "    \"한글의 문자는 그 수가 많으므로,  \\n\",\n",
    "    \"training data 의 빈도수를 보고, 입력 문자의\\n\"\n",
    "\n",
    "    \n",
    "\n"
   ]
  },
  {
   "cell_type": "markdown",
   "metadata": {},
   "source": [
    "### 네트워크 구성 \n",
    "네트워크는 기본 RNN 을 사용한다.  \n",
    "RNN 의 cell 은 LSTM 을 사용한다.  \n"
   ]
  },
  {
   "cell_type": "code",
   "execution_count": 17,
   "metadata": {},
   "outputs": [
    {
     "name": "stdout",
     "output_type": "stream",
     "text": [
      "The autoreload extension is already loaded. To reload it, use:\n",
      "  %reload_ext autoreload\n"
     ]
    }
   ],
   "source": [
    "%load_ext autoreload\n"
   ]
  },
  {
   "cell_type": "code",
   "execution_count": 18,
   "metadata": {},
   "outputs": [],
   "source": [
    "%autoreload 2"
   ]
  },
  {
   "cell_type": "code",
   "execution_count": 19,
   "metadata": {},
   "outputs": [
    {
     "name": "stdout",
     "output_type": "stream",
     "text": [
      "length of paragraph:  875\n"
     ]
    }
   ],
   "source": [
    "import data\n",
    "\n",
    "rawdata = data.read_data(\"data/4BE00006.txt\")\n"
   ]
  },
  {
   "cell_type": "code",
   "execution_count": 23,
   "metadata": {},
   "outputs": [
    {
     "name": "stdout",
     "output_type": "stream",
     "text": [
      "1.3.0\n"
     ]
    }
   ],
   "source": [
    "import tensorflow as tf\n",
    "\n",
    "print(tf.__version__)"
   ]
  },
  {
   "cell_type": "code",
   "execution_count": 20,
   "metadata": {},
   "outputs": [
    {
     "data": {
      "image/png": "[encoded data removed]",
      "text/plain": [
       "<matplotlib.figure.Figure at 0x115d7df28>"
      ]
     },
     "metadata": {},
     "output_type": "display_data"
    }
   ],
   "source": [
    "import math, numpy as np, matplotlib.pyplot as plt\n",
    "import data\n",
    "\n",
    "sorted_char_map = data.get_sorted_char_map(rawdata)\n",
    "\n",
    "\n",
    "plt.title('Frequency of Each Character', fontsize=18)\n",
    "plt.plot(np.array([math.log10(k[1]) for k in sorted_char_map]))\n",
    "plt.ylabel('$\\log_{10}$ Frequency', fontsize=14)\n",
    "plt.xlabel('Character Index', fontsize=14)\n",
    "plt.show()"
   ]
  },
  {
   "cell_type": "code",
   "execution_count": null,
   "metadata": {},
   "outputs": [
    {
     "name": "stdout",
     "output_type": "stream",
     "text": [
      "****** MultiLayer LSTM Initialize ******\n",
      "****** Model Basic Initialize ******\n",
      "Tensor(\"rnn_def/rnn/transpose:0\", shape=(?, 30, 128), dtype=float32)\n",
      "epoch # 24\n",
      "0.968074\n",
      "Key: \u001b[31m<nop>\u001b[0m\tPrec: \u001b[32m100.0\u001b[0m%\tRecall: \u001b[32m6.8\u001b[0m\tF-Score: \u001b[32m 98.4\u001b[0m%\u001b[0m\n",
      "Key: \u001b[31m  ,\u001b[0m\tPrec: \u001b[32m  0.0\u001b[0m%\tRecall: \u001b[32m0.0\u001b[0m\tF-Score:   N/A\u001b[0m\n",
      "Key: \u001b[31m  .\u001b[0m\tPrec: \u001b[32m  0.0\u001b[0m%\tRecall: \u001b[32m0.0\u001b[0m\tF-Score:   N/A\u001b[0m\n",
      "epoch # 49\n",
      "0.968074\n",
      "Key: \u001b[31m<nop>\u001b[0m\tPrec: \u001b[32m100.0\u001b[0m%\tRecall: \u001b[32m6.8\u001b[0m\tF-Score: \u001b[32m 98.4\u001b[0m%\u001b[0m\n",
      "Key: \u001b[31m  ,\u001b[0m\tPrec: \u001b[32m  0.0\u001b[0m%\tRecall: \u001b[32m0.0\u001b[0m\tF-Score:   N/A\u001b[0m\n",
      "Key: \u001b[31m  .\u001b[0m\tPrec: \u001b[32m  0.0\u001b[0m%\tRecall: \u001b[32m0.0\u001b[0m\tF-Score:   N/A\u001b[0m\n"
     ]
    }
   ],
   "source": [
    "import data\n",
    "import utils\n",
    "import model\n",
    "\n",
    "input_chars, output_chars = data.make_dic(rawdata)\n",
    "\n",
    "text = rawdata\n",
    "\n",
    "char2vec = utils.Char2Vec(chars=input_chars, add_unknown=True)\n",
    "output_char2vec = utils.Char2Vec(chars=output_chars)\n",
    "input_size = char2vec.size\n",
    "output_size = output_char2vec.size\n",
    "\n",
    "# make and run multi layer LSTM network\n",
    "hidden_size = 128\n",
    "\n",
    "rnn_config = model.ModelConfiguration(input_size, hidden_size, output_size, layers=2, bi=False)\n",
    "base = model.MultiLayerLSTM(rnn_config, char2vec, output_char2vec, text)\n",
    "base.run()\n"
   ]
  },
  {
   "cell_type": "markdown",
   "metadata": {},
   "source": [
    "### Reference \n",
    "https://github.com/episodeyang/deep-auto-punctuation  \n"
   ]
  }
 ],
 "metadata": {
  "kernelspec": {
   "display_name": "Python 3",
   "language": "python",
   "name": "python3"
  },
  "language_info": {
   "codemirror_mode": {
    "name": "ipython",
    "version": 3
   },
   "file_extension": ".py",
   "mimetype": "text/x-python",
   "name": "python",
   "nbconvert_exporter": "python",
   "pygments_lexer": "ipython3",
   "version": "3.6.2"
  }
 },
 "nbformat": 4,
 "nbformat_minor": 1
}
