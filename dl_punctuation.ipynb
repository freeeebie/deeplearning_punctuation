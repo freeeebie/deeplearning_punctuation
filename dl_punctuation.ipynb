{
 "cells": [
  {
   "cell_type": "markdown",
   "metadata": {
    "collapsed": true
   },
   "source": [
    "# 문장 기호 자동 추가\n",
    "문장이 주어졌을 때 문장 부호인 마침표('.')와 쉼표(',') 를 자동으로 추가하는 프로그램을 작성하는 것을 목표로 한다.  \n",
    "이를 수행하기 위하여 복수의 문장을 입력 받아 Deep Learning Network 을 구성하여 training 하고,  \n",
    "주어진 문장에 대하여 적용하여 실제 동작을 잘 수행하는지 확인 한다  \n",
    "\n",
    "예를 들면, 아래와 같이 문장이 주어졌다고 가정하자.  \n",
    "```\n",
    "   \"오늘 걷지 않는다면 내일은 뛰어야 한다\"\n",
    "```\n",
    "우리가 원하는 결과는 아래와 같을 것이다.  \n",
    "```\n",
    "   \"오늘 걷지 않는다면, 내일은 뛰어야 한다.\"\n",
    "```\n",
    "  \n",
    "## overview\n",
    "\n",
    "입력된 문장에서 target 을 아래와 같이 구성한다  \n",
    "\n",
    "```\n",
    " 문자 : '<nop>'  \n",
    "   . : '.'  \n",
    "   , : ','  \n",
    "```\n",
    "\n",
    "즉, 위의 예를 다시 쓰면 아래처럼 될 것이다. \n",
    "```\n",
    "   오 : '<nop>'\n",
    "   늘 : '<nop>'\n",
    "      : '<nop>'\n",
    "   걷 : '<nop>'\n",
    "   ... \n",
    "   면 : '<nop>'\n",
    "   , : ','\n",
    "     : '<nop>'\n",
    "   내 : '<nop>'\n",
    "   일 : '<nop>'\n",
    "   ...\n",
    "   한 : '<nop>'\n",
    "   다 : '<nop>'\n",
    "   . : '.'\n",
    "```\n",
    "```\n",
    "\"오늘 걷지 않는다면, 내일은 뛰어야 한다.\"\n",
    "```\n",
    "가 들어오면, \n",
    "```\n",
    "<nop><nop><nop><nop><nop><nop><nop><nop><nop><nop>,<nop><nop><nop><nop><nop><nop>.\"\n",
    "```\n",
    "위와 같이 &lt;nop>, ',',  '.' 로 이루어진 리스트가 출력되는 문제로 추상화할 수 있다. \n",
    "즉, 각각의 character 하나마다, 3개의 class 중 하나의 값으로 분류하는 문제라고 볼 수 있다.  \n",
    "\n",
    "문장의 형태소 정보라든지 추가적인 정보를 사용한다면, 더 좋은 결과를 얻을 수 있을 것이라고 추측되나,  \n",
    "문제를 단순화 하기 위하여 문장을 문자 단위로 다루기로 한다.  "
   ]
  },
  {
   "cell_type": "code",
   "execution_count": 10,
   "metadata": {
    "collapsed": true
   },
   "outputs": [],
   "source": [
    "%load_ext autoreload\n"
   ]
  },
  {
   "cell_type": "code",
   "execution_count": 11,
   "metadata": {
    "collapsed": true
   },
   "outputs": [],
   "source": [
    "%autoreload 2"
   ]
  },
  {
   "cell_type": "code",
   "execution_count": 5,
   "metadata": {},
   "outputs": [
    {
     "name": "stdout",
     "output_type": "stream",
     "text": [
      "Collecting termcolor\n",
      "  Downloading termcolor-1.1.0.tar.gz\n",
      "Building wheels for collected packages: termcolor\n",
      "  Running setup.py bdist_wheel for termcolor ... \u001b[?25ldone\n",
      "\u001b[?25h  Stored in directory: /home/nbuser/.cache/pip/wheels/de/f7/bf/1bcac7bf30549e6a4957382e2ecab04c88e513117207067b03\n",
      "Successfully built termcolor\n",
      "Installing collected packages: termcolor\n",
      "Successfully installed termcolor-1.1.0\n"
     ]
    }
   ],
   "source": [
    "!pip install termcolor"
   ]
  },
  {
   "cell_type": "code",
   "execution_count": 13,
   "metadata": {},
   "outputs": [
    {
     "name": "stdout",
     "output_type": "stream",
     "text": [
      "1.3.0\n"
     ]
    }
   ],
   "source": [
    "import tensorflow as tf\n",
    "\n",
    "print(tf.__version__)"
   ]
  },
  {
   "cell_type": "markdown",
   "metadata": {},
   "source": [
    "## preprocessing \n",
    "\n",
    "입력은 한글로 된 세종 코퍼스 중 텍스트를 미리 다운 받아 처리하였다.  \n",
    "입력된 data 에서 $lt;body> 중 $lt;p> $lt;/p> 로 묶인 문장만을 사용하였다. \n",
    "  \n",
    "우선 trainging 을 위하여 입력한 data의 전처리가 필요하다.  \n",
    "문장을 입력받으면, 이에 대응하는 character vector 를 구성하여, input에 대한 dictionary 를 구성한다. \n",
    "한글의 문자는 그 수가 많고, 입력된 텍스트에는 영어나 특수 문자 등이 포함되었을 수 있으니,  \n",
    "모든 문자를 dictionary에 추가할 수는 없다.  \n",
    "그러므로 입력 문자의 빈도수를 보고 적절한 갯수로 입력 dictionary 의 크기를 제한한다. \n",
    "  \n",
    "아래는 입력된 문자에 대한 빈도수를 log scale 로 보여주는 그래프이다.  \n",
    "이 그래프를 참고하여 임의의 갯수로 dictionary 이 크기를 제한하여 진행하였다. "
   ]
  },
  {
   "cell_type": "code",
   "execution_count": 6,
   "metadata": {},
   "outputs": [
    {
     "name": "stderr",
     "output_type": "stream",
     "text": [
      "/home/nbuser/anaconda3_410/lib/python3.5/site-packages/matplotlib/font_manager.py:273: UserWarning: Matplotlib is building the font cache using fc-list. This may take a moment.\n",
      "  warnings.warn('Matplotlib is building the font cache using fc-list. This may take a moment.')\n",
      "/home/nbuser/anaconda3_410/lib/python3.5/site-packages/matplotlib/font_manager.py:273: UserWarning: Matplotlib is building the font cache using fc-list. This may take a moment.\n",
      "  warnings.warn('Matplotlib is building the font cache using fc-list. This may take a moment.')\n"
     ]
    },
    {
     "name": "stdout",
     "output_type": "stream",
     "text": [
      "length of paragraph:  1104  characters:  190957\n"
     ]
    },
    {
     "data": {
      "image/png": "[encoded data removed]",
      "text/plain": [
       "<matplotlib.figure.Figure at 0x7fda27c8e828>"
      ]
     },
     "metadata": {},
     "output_type": "display_data"
    }
   ],
   "source": [
    "import math, numpy as np, matplotlib.pyplot as plt\n",
    "import data\n",
    "\n",
    "rawdata = data.read_data(\"data/training/4BH00005.txt\")\n",
    "\n",
    "sorted_char_map = data.get_sorted_char_map(rawdata)\n",
    "\n",
    "plt.title('Frequency of Each Character', fontsize=18)\n",
    "plt.plot(np.array([math.log10(k[1]) for k in sorted_char_map]))\n",
    "plt.ylabel('$\\log_{10}$ Frequency', fontsize=14)\n",
    "plt.xlabel('Character Index', fontsize=14)\n",
    "plt.show()"
   ]
  },
  {
   "cell_type": "markdown",
   "metadata": {},
   "source": [
    "## 네트워크 구성 \n",
    "\n",
    "입력은 임의로 정한 dictionary 중 하나이고,  \n",
    "이러한 입력이 들어올 때  \n",
    "출력은 세 개의 케이스 ('&lt;nop>', '.', ',') 중 하나를 출력하도록 하는 네트워크를 구성한다.  \n",
    "출력의 값이 존재하는 문제로 정의하였으므로,  \n",
    "supervised learning 으로 문제를 해결한다.  \n",
    "  \n",
    "문장을 training하여 문장 부호를 예측하는 모델에서  \n",
    "각 문장의 character 들은 그 이전에 나온 character와 밀접한 관계를 가지므로 \n",
    "이전 output 이 다음 step 의 input 으로 사용하는 네트워크인 Recurrent Neural Network 을 사용한다.  \n",
    "\n",
    "RNN 의 cell은 vanishing gradient 의 영향을 줄일 수 있는 LSTM 을 사용한다.  \n",
    "RNN 의 구성은 아래의 두 케이스를 진행하였다.  \n",
    "\n",
    "### Multilayer RNN \n",
    "Layer 를 2 layer를 사용하였고, hidden size 는 128 로 설정하였다.  \n",
    "각 cell 은 이전 cell 의 output 을 LSTM 의 input 으로 사용한다. \n",
    "100 개중 1 * 128 * 128 * 3 개중 1의 네트워크가 될 것이다. \n",
    "[그림]\n",
    "\n",
    "\n",
    "\n"
   ]
  },
  {
   "cell_type": "markdown",
   "metadata": {},
   "source": [
    "### Bidirectional RNN \n",
    "테스트를 수행한 결과를 살펴보니, '.' 을 예측하는 과정에서, \n",
    "만약 아래와 같은 문장이 있을 때, \n",
    "```\n",
    "\"그가 방에 들어간다면\" \n",
    "```\n",
    "아래처럼 예측하는 경우를 볼 수 있었다. \n",
    "```\n",
    "\"그가 방에 들어간다.면\" \n",
    "```\n",
    "  \n",
    "앞의 문자들만을 고려하고 있어서 발생하는 현상이라고 판단되어, \n",
    "forward와 backward 를 모두 고려하는 Bidirectional RNN 을  \n",
    "사용하는 것이 정확도를 더 올릴 수 있을 것이라고 생각되어 이를 추가하였다.  \n",
    "Multilayer RNN에서도 두개의 cell 만을 사용하였으므로,  \n",
    "비교를 위해 Bidirectional 도 forward, backward 두 개의 cell 만을 사용하였다."
   ]
  },
  {
   "cell_type": "markdown",
   "metadata": {},
   "source": [
    "### 수행 결과 측정\n",
    "수행 결과를 측정한 지표로는 아래를 사용하였다. \n",
    "- loss \n",
    "training 시 결과로 리턴되는 값으로,  실측 data(target data)와 prediction 결과와의 차이를 나타낸다. \n",
    "- accuracy\n",
    "실측 data 와 prediction 의 결과로 각각 나온 list 를 비교하여 각 item 별로 비교하여,  \n",
    "같으면 true, 다르면 false 로 하여 이를 평균낸 값이다.  \n",
    "- speed \n",
    "수행 시간을 나타낸다.  \n",
    "- precision, recall, f-score\n",
    "전통적으로 NLP, 검색엔진 등의 성능을 측정하는 지표로 알려진 precision, recall, f-score 를 사용한다.  \n",
    "    - precision\n",
    "    prediction 한 결과 값 중 실제 data 와 일치하는 비율\n",
    "    - recall\n",
    "    실측 data 중 몇개가 prediction 과 일치하는지에 대한 비율\n",
    "    - f-score\n",
    "    precision 과 recall 을 하나의 지표로 표시하기 위한 목적으로 두 값의 조화평균\n",
    "\n",
    "\n",
    "    \n",
    "    \n",
    "\n",
    "마침표의 경우 뚜렷한 패턴이 있으므로, 짧은 트레이닝 주기에서도 상당히 높은 예측률을 얻을 수 있었다. \n",
    "하지만 쉼표의 경우는 예측율이 낮았다. \n",
    "한국어에서 쉼표가 다양한 패턴으로 사용되고, 특히 명사의 나열과 같은 (ex> 사과, 포도, 배 등) 경우의 사용에서는 \n",
    "품사 정보가 있지 않다면, 예측을 하기 어려울 것으로 보인다. \n"
   ]
  },
  {
   "cell_type": "markdown",
   "metadata": {},
   "source": [
    "## Implementation \n",
    "### data preprocessing  과정 \n",
    "아래는 실제 data file 을 read 하여  \n",
    "character 에 대한 dictionary 를 구성하는 부분이다.  \n",
    "입력 dictionary 로는 100 개로 설정하였고, 출력은 '&lt;nop>, '.', ',' 3개 중 하나가 된다.   \n",
    "입력한 data 는 편의를 위하여 고정된 길이의 sequence length 로 나누어 저장한다.  \n",
    "이 sequence length 는 RNN 에서 몇개의 data 까지 고려할지를 결정하는 step 갯수의 값이 될 것이다.  \n",
    "각각 나눈 data 는 아래와 같은 종류로 전처리하여 저장한다. \n",
    "    - input data \n",
    "    고정길이로 나눈 문장에서 '.'과 ','를 삭제한 후 미리 구성한 dictionary 의 index 로 치환한다. \n",
    "    - target data \n",
    "    입력된 문장에 대한 실제 결과로, 입력된 문장을 '&lt;nop>', '.', ',' 로 변경한 결과를 저장한다.  \n",
    "    - sequence length \n",
    "    입력된 text 를 고정길이로 나누어 사용하여 필요가 없으나, 입력 문장에서 '.', ',' 를 strip 하는 과정을 거친 결과로,  \n",
    "    문장의 길이에 차이가 발생한다.  \n",
    "    이에 대응하기 위하여 input data 를 strip 한 길이를 저장하는 벡터가 필요하다.  \n",
    "    \n",
    "training 에 사용된 data 의 10프로는 overfitting을 방지하기 위하여 검증에 사용하도록,  \n",
    "preprocessing 한 dataset 을 training 용도와 validation 용도로 나누어 저장한다.  "
   ]
  },
  {
   "cell_type": "code",
   "execution_count": 7,
   "metadata": {},
   "outputs": [
    {
     "name": "stdout",
     "output_type": "stream",
     "text": [
      "length of paragraph:  50  characters:  8571\n"
     ]
    }
   ],
   "source": [
    "import data\n",
    "import utils\n",
    "import models.modelbase as base\n",
    "\n",
    "text = data.read_data(\"data/training/4BH00005.txt\", 50)\n",
    "# text = data.read_large_data(\"data/training\")\n",
    "\n",
    "dic_size = 100\n",
    "input_chars = data.make_input_dic(text, dic_size)\n",
    "output_chars = ['<nop>', '.', ',']\n",
    "\n",
    "char2vec = utils.Char2Vec(chars=input_chars, add_unknown=True)\n",
    "output_char2vec = utils.Char2Vec(chars=output_chars)\n",
    "input_size = char2vec.size\n",
    "output_size = output_char2vec.size"
   ]
  },
  {
   "cell_type": "markdown",
   "metadata": {},
   "source": [
    "###  Variable 설정 \n",
    "input 은 입력 data 이고, target 은 Y 값, 즉 관측된 결과 값이다. \n",
    "seq_lens 는 입력 sequence 의 length 를 저장한다. \n",
    "  \n",
    "  \n",
    "이를 각각의 placeholder 로 설정한다. \n",
    "input 값에 대한 placeholder 는 3차원으로 아래와 같다.    \n",
    " [전체 batch size * sequence length * input size]    \n",
    "3번째 차원이 input size 인 이유는 one hot encoding 형식으로 데이터를 전달하려는 의도이다.  \n",
    "  \n",
    "출력 Y 는 one hot 이 아닌 index 로 저장할 예정이므로,  \n",
    "[전체 batch size * sequence length] 로 설정한다.  \n",
    "그 외 문장의 길이를 저장하는 sequence 에 대한 정보를 저장할 placeholder 를 설정한다. \n"
   ]
  },
  {
   "cell_type": "code",
   "execution_count": 8,
   "metadata": {},
   "outputs": [],
   "source": [
    "import tensorflow as tf\n",
    "import models.modelbase as base\n",
    "\n",
    "# make and run multi layer LSTM network\n",
    "\n",
    "hidden_size = 128\n",
    "seq_length = 100\n",
    "modelconfig = base.ModelConfiguration(input_size, hidden_size, output_size, epoch=500)\n",
    "evals = {}\n",
    "types = [\"multi\", \"bimul\"]\n",
    "\n",
    "type = \"multi\"\n",
    "training_dataset, valid_dataset = data.make_sequences(text, char2vec, output_char2vec, seq_length)\n",
    "\n",
    "input_batch = training_dataset.input_batch\n",
    "target_batch = training_dataset.target_batch\n",
    "seq_lens = training_dataset.seq_lens\n",
    "\n",
    "hidden_size = modelconfig.hidden_size\n",
    "\n",
    "tf.reset_default_graph()\n",
    "\n",
    "X = tf.placeholder(tf.int32, [None, seq_length])  # X data\n",
    "X_one_hot = tf.one_hot(X, modelconfig.input_size)  # one hot: 1 -> 0 1 0 0 0 0 0 0 0 0\n",
    "\n",
    "Y = tf.placeholder(tf.int32, [None, seq_length])  # Y label\n",
    "\n",
    "Sequences = tf.placeholder(tf.int32, [None])\n",
    "keep_prob = tf.placeholder(tf.float32)"
   ]
  },
  {
   "cell_type": "markdown",
   "metadata": {},
   "source": [
    "#### 네트워크 구성\n",
    "네트워크는 두 개의 종류로 설정하였다.  \n",
    "각 cell 은 128개의 hidden layer 로 구성하였다.  \n",
    "\n",
    "##### Multi layer \n",
    "1. 하나의 입력에 대하여 128개의 hidden layer 를 가진 LSTM cell 을 구성 \n",
    "2. 128 개의 입력을 받아 128개의 output 을 출력하는 layer 를 하나 더 구성 \n",
    "   1개의 layer 만을 사용할 경우 결과값의 성능이 떨어지므로, deep 하게 하나의 layer 를 더 구성한다. \n",
    "3. Dropout 설정 \n",
    "   overfitting 을 막기위하여 dropout 을 설정한다. dropout 은 training 시에 사용할 hidden layer 의 비율을 설정하는 것으로,  \n",
    "   전체를 사용하지 않으므로, overfitting 을 줄일 수 있다.  \n",
    "3. 128개의 hidden layer 에서 나온 output 을 3개의 class로 연결하는 네트워크 구성\n",
    "마지막 layer 와 연결되는 Weight 와 bias 를 직접 설정하여야 하나,  \n",
    "tensorflow 에서 tf.layers.dense() 라는 API 를 제공해 주므로,  \n",
    "이를 사용하여 마지막 layer 로 3개의 class 의 결과 layer 까지 구성된다. \n",
    "\n",
    "4. cost function 구성 \n",
    "이는 sparse_softmax_cross_entropy_with_logits 라는 tensorflow 의 API 를 사용하여 처리한다. \n",
    "\n",
    "우선 network 의 출력값, 즉 3개의 분류에 대한 score 가 나온 각 node 는 softmax 를 거친다. \n",
    "이를 거치면, 총합이 1이고, 각각은 0~1 사이로 대응되는 확률값으로 변경 가능하다.  \n",
    "\n",
    "network 의 출력값인 [x, y, z] 와 실제 label 값 [X, Y, Z] 를 비교하여, cost function 을 구성한다.  \n",
    "이를 위해 cross entroty 라는 방식을 사용한다.  \n",
    "logistic regressing 은 cross entropy 의 binary version 이라고 하는데,  \n",
    "계산식은 복잡하지 않으나, cross entroty 에 대한 의미에 대해서는 좀더 학습이 필요하다. \n",
    "  \n",
    "sparse 가 사용된 이유는 Y값이 1-hot 으로 구성되어 있지 않은데, 이를 자동으로 1-hot 으로 변경해주므로,  \n",
    "sparse 가 붙은 API 를 사용한다. \n",
    "  \n",
    "5. optimization  \n",
    "cost function 을 설정한 tensor 에 optimze 를 설정한다.  \n",
    "optimization 의 대표적인 예는 gradient decent 방식이다. \n",
    "여기서는 tensorflow 의 AdamOptimizer 를 사용하였다.  \n",
    "실제 구동하여 보면 GradientDescentOptimizer 보다 정확도의 각종 지표들이 높게 나옴을 알 수 있다.\n",
    "\n",
    "###prediction 은 rnnmodel 의 linear regression 결과에 3번째 값, \n",
    "즉, 마지막 hidden layer 의 출력값에 WX + b 의 결과로 나온 값을 사용한다."
   ]
  },
  {
   "cell_type": "markdown",
   "metadata": {},
   "source": [
    "<img src=\"img/rnn_multi.png\">"
   ]
  },
  {
   "cell_type": "markdown",
   "metadata": {},
   "source": [
    "\n",
    "\n",
    "##### Bidirectional layer \n",
    "위와 동일하고, 1,2 번 과정만이 차이가 있다. \n",
    "한 layer 는 backward 로 output data 를 참고하고,  \n",
    "다른 layer 는 forward 로 output data 를 입력받는다. \n",
    "각 layer를 128개의 hidden layer 로 설정했으므로, \n",
    "이 과정을 가쳐 256 개의 output 이 나온다. \n",
    "이를 tensorflow 의 dense 함수를 이용하여 3개의 class 의 output 으로 네트워크를 구성한다.  \n",
    "그 다음 과정은 위와 같다.  "
   ]
  },
  {
   "cell_type": "markdown",
   "metadata": {},
   "source": [
    "<img src=\"img/rnn_bi.png\">"
   ]
  },
  {
   "cell_type": "code",
   "execution_count": 9,
   "metadata": {},
   "outputs": [
    {
     "name": "stdout",
     "output_type": "stream",
     "text": [
      "\n",
      "****** MultiLayer LSTM start ******\n"
     ]
    }
   ],
   "source": [
    "if type == \"multi\":\n",
    "    print('\\n****** MultiLayer LSTM start ******')\n",
    "\n",
    "    with tf.variable_scope('cell_def'):\n",
    "        cell1 = tf.nn.rnn_cell.BasicLSTMCell(num_units=hidden_size, state_is_tuple=True)\n",
    "        cell1 = tf.nn.rnn_cell.DropoutWrapper(cell1, output_keep_prob=keep_prob)\n",
    "        cell2 = tf.nn.rnn_cell.BasicLSTMCell(num_units=hidden_size, state_is_tuple=True)\n",
    "        cell2 = tf.nn.rnn_cell.DropoutWrapper(cell2, output_keep_prob=keep_prob)\n",
    "        multi_cell = tf.nn.rnn_cell.MultiRNNCell([cell1, cell2])\n",
    "\n",
    "    with tf.variable_scope('rnn_def'):\n",
    "        outputs, _states = tf.nn.dynamic_rnn(\n",
    "            multi_cell, X_one_hot, dtype=tf.float32, sequence_length=Sequences)\n",
    "\n",
    "elif type == \"bimul\":\n",
    "    print('\\n****** Bidirectional LSTM start ******')\n",
    "\n",
    "    with tf.variable_scope('cell_def'):\n",
    "        forward = tf.nn.rnn_cell.BasicLSTMCell(num_units=hidden_size, state_is_tuple=True)\n",
    "        forward = tf.nn.rnn_cell.DropoutWrapper(forward, output_keep_prob=keep_prob)\n",
    "        backward = tf.nn.rnn_cell.BasicLSTMCell(num_units=hidden_size, state_is_tuple=True)\n",
    "        backward = tf.nn.rnn_cell.DropoutWrapper(backward, output_keep_prob=keep_prob)\n",
    "\n",
    "    with tf.variable_scope('rnn_def'):\n",
    "        outputs, states = tf.nn.bidirectional_dynamic_rnn(forward, backward, inputs=X_one_hot, dtype=tf.float32,\n",
    "                                                          sequence_length=Sequences)\n",
    "        outputs = tf.concat(values=outputs, axis=2)\n",
    "\n",
    "model = tf.layers.dense(outputs, modelconfig.output_size, activation=None)\n",
    "cost = tf.reduce_mean(tf.nn.sparse_softmax_cross_entropy_with_logits(logits=model, labels=Y))\n",
    "prediction = tf.argmax(model, axis=2)\n",
    "\n",
    "optimizer = tf.train.AdamOptimizer(learning_rate=0.001).minimize(cost)\n"
   ]
  },
  {
   "cell_type": "markdown",
   "metadata": {},
   "source": [
    "### training \n",
    "위에 구성한 tensor graph 를 training 해준다. \n",
    "optimizer 의 결과는,, 이고,  \n",
    "cost 의 결과는 .. 이다.  \n",
    "\n",
    "epoch 25 단위마다, training data 중 10프로로 미리 구성된 test data 를 사용하여,  \n",
    "현재 결과를 evaluation 한다.  \n"
   ]
  },
  {
   "cell_type": "code",
   "execution_count": 6,
   "metadata": {},
   "outputs": [
    {
     "name": "stdout",
     "output_type": "stream",
     "text": [
      "\n",
      "------------ Training ------------ \n",
      "Epoch: 0025   accuracy = 0.981250   cost = 0.179770 speed = 8.64 sec\n",
      "Key: \u001b[31m  ,\u001b[0m\tPrec: \u001b[32m  0.0\u001b[0m%\tRecall: \u001b[32m  0.0\u001b[0m%\tF-Score: \u001b[32m  0.0\u001b[0m\u001b[0m\n",
      "Key: \u001b[31m  .\u001b[0m\tPrec: \u001b[32m 98.1\u001b[0m%\tRecall: \u001b[32m100.0\u001b[0m%\tF-Score: \u001b[32m 99.1\u001b[0m\u001b[0m\n",
      "Key: \u001b[31m<nop>\u001b[0m\tPrec: \u001b[32m  0.0\u001b[0m%\tRecall: \u001b[32m  0.0\u001b[0m%\tF-Score: \u001b[32m  0.0\u001b[0m\u001b[0m\n",
      "\n"
     ]
    },
    {
     "name": "stderr",
     "output_type": "stream",
     "text": [
      "/home/nbuser/anaconda3_410/lib/python3.5/site-packages/sklearn/metrics/classification.py:1113: UndefinedMetricWarning: Precision and F-score are ill-defined and being set to 0.0 in labels with no predicted samples.\n",
      "  'precision', 'predicted', average, warn_for)\n",
      "/home/nbuser/anaconda3_410/lib/python3.5/site-packages/sklearn/metrics/classification.py:1115: UndefinedMetricWarning: Recall and F-score are ill-defined and being set to 0.0 in labels with no true samples.\n",
      "  'recall', 'true', average, warn_for)\n"
     ]
    },
    {
     "name": "stdout",
     "output_type": "stream",
     "text": [
      "Epoch: 0050   accuracy = 0.981250   cost = 0.173911 speed = 8.67 sec\n",
      "Key: \u001b[31m  ,\u001b[0m\tPrec: \u001b[32m  0.0\u001b[0m%\tRecall: \u001b[32m  0.0\u001b[0m%\tF-Score: \u001b[32m  0.0\u001b[0m\u001b[0m\n",
      "Key: \u001b[31m  .\u001b[0m\tPrec: \u001b[32m 98.1\u001b[0m%\tRecall: \u001b[32m100.0\u001b[0m%\tF-Score: \u001b[32m 99.1\u001b[0m\u001b[0m\n",
      "Key: \u001b[31m<nop>\u001b[0m\tPrec: \u001b[32m  0.0\u001b[0m%\tRecall: \u001b[32m  0.0\u001b[0m%\tF-Score: \u001b[32m  0.0\u001b[0m\u001b[0m\n",
      "\n",
      "Epoch: 0075   accuracy = 0.981250   cost = 0.167385 speed = 8.87 sec\n",
      "Key: \u001b[31m  ,\u001b[0m\tPrec: \u001b[32m  0.0\u001b[0m%\tRecall: \u001b[32m  0.0\u001b[0m%\tF-Score: \u001b[32m  0.0\u001b[0m\u001b[0m\n",
      "Key: \u001b[31m  .\u001b[0m\tPrec: \u001b[32m 98.1\u001b[0m%\tRecall: \u001b[32m100.0\u001b[0m%\tF-Score: \u001b[32m 99.1\u001b[0m\u001b[0m\n",
      "Key: \u001b[31m<nop>\u001b[0m\tPrec: \u001b[32m  0.0\u001b[0m%\tRecall: \u001b[32m  0.0\u001b[0m%\tF-Score: \u001b[32m  0.0\u001b[0m\u001b[0m\n",
      "\n",
      "Epoch: 0100   accuracy = 0.981250   cost = 0.162147 speed = 8.38 sec\n",
      "Key: \u001b[31m  ,\u001b[0m\tPrec: \u001b[32m  0.0\u001b[0m%\tRecall: \u001b[32m  0.0\u001b[0m%\tF-Score: \u001b[32m  0.0\u001b[0m\u001b[0m\n",
      "Key: \u001b[31m  .\u001b[0m\tPrec: \u001b[32m 98.1\u001b[0m%\tRecall: \u001b[32m100.0\u001b[0m%\tF-Score: \u001b[32m 99.1\u001b[0m\u001b[0m\n",
      "Key: \u001b[31m<nop>\u001b[0m\tPrec: \u001b[32m  0.0\u001b[0m%\tRecall: \u001b[32m  0.0\u001b[0m%\tF-Score: \u001b[32m  0.0\u001b[0m\u001b[0m\n",
      "\n",
      "0.981249988079\n",
      "8.640311241149902\n",
      "0.333333333333\n",
      "0.170803025365\n",
      "0.330171383675\n",
      "0.327083333333\n",
      "\n",
      "------------ Testing ------------ \n",
      "length of paragraph:  12  characters:  1535\n",
      "Accuracy = 0.980625\n",
      "target sentence:     글을 쓰는 것은 혼자만의 일이 아니었다. 한 문장을 쓸 때마다  마음 속에 자리잡고 있는 수많은 독자들의 눈이 나를 감시하였다. 그래서인지 이 책을  다 완성하였을 때 느낀 감정은  \n",
      "prediction sentence: 글을 쓰는 것은 혼자만의 일이 아니었다 한 문장을 쓸 때마다  마음 속에 자리잡고 있는 수많은 독자들의 눈이 나를 감시하였다 그래서인지 이 책을  다 완성하였을 때 느낀 감정은  \n",
      "target sentence:      탈고의 기쁨보다는 감시의 눈초리로부터 벗어났다는 해방감이었다. 사람들은 많은 생각을 갖고 있다. 보통 사람들의 머리 속에는  책 몇 권 분량에 해당하는 많은 생각이 들어 있다.    \n",
      "prediction sentence:  탈고의 기쁨보다는 감시의 눈초리로부터 벗어났다는 해방감이었다 사람들은 많은 생각을 갖고 있다 보통 사람들의 머리 속에는  책 몇 권 분량에 해당하는 많은 생각이 들어 있다    \n",
      "target sentence:      누구나 다른 사람들에게 해주고 싶은  저마다의 이야기가 있기 때문이다. 하지만 머리 속에 이야기를 간직하고 있을 때와 그  이야기를 글로 써야 될 때에는 엄청난 차이가 있다. 나  \n",
      "prediction sentence:  누구나 다른 사람들에게 해주고 싶은  저마다의 이야기가 있기 때문이다 하지만 머리 속에 이야기를 간직하고 있을 때와 그  이야기를 글로 써야 될 때에는 엄청난 차이가 있다 나  \n",
      "Key: \u001b[31m  ,\u001b[0m\tPrec: \u001b[32m  0.0\u001b[0m%\tRecall: \u001b[32m  0.0\u001b[0m%\tF-Score: \u001b[32m  0.0\u001b[0m\u001b[0m\n",
      "Key: \u001b[31m  .\u001b[0m\tPrec: \u001b[32m 98.1\u001b[0m%\tRecall: \u001b[32m100.0\u001b[0m%\tF-Score: \u001b[32m 99.0\u001b[0m\u001b[0m\n",
      "Key: \u001b[31m<nop>\u001b[0m\tPrec: \u001b[32m  0.0\u001b[0m%\tRecall: \u001b[32m  0.0\u001b[0m%\tF-Score: \u001b[32m  0.0\u001b[0m\u001b[0m\n",
      "{'bimul': <utils.Evaluation object at 0x7ff9b39f7438>}\n"
     ]
    }
   ],
   "source": [
    "sess = tf.Session()\n",
    "sess.run(tf.global_variables_initializer())\n",
    "\n",
    "eval = utils.Evaluation(type, modelconfig.epoch, 25)\n",
    "\n",
    "print('\\n------------ Training ------------ ')\n",
    "last_time = time.time()\n",
    "for epoch in range(modelconfig.epoch):\n",
    "\n",
    "    _, loss = sess.run([optimizer, cost], feed_dict={X: input_batch,\n",
    "                                                     Y: target_batch,\n",
    "                                                     Sequences: seq_lens,\n",
    "                                                     keep_prob: 0.8})\n",
    "    if epoch % 25 == 24:\n",
    "        result = sess.run(prediction, feed_dict={X: valid_dataset.input_batch,\n",
    "                                                 Y: valid_dataset.target_batch,\n",
    "                                                 Sequences: valid_dataset.seq_lens,\n",
    "                                                 keep_prob: 1})\n",
    "        accuracy = tf.reduce_mean(tf.cast(tf.equal(result, tf.cast(Y, tf.int64)), tf.float32))\n",
    "        accuracy_ret = sess.run(accuracy, feed_dict={Y: valid_dataset.target_batch})\n",
    "        speed = time.time() - last_time\n",
    "        print('Epoch:', '%04d  ' % (epoch + 1),\n",
    "              'accuracy =', '{:.6f}  '.format(accuracy_ret),\n",
    "              'cost =', '{:.6f}'.format(loss),\n",
    "              'speed =', '{:.2f}'.format(speed), 'sec')\n",
    "        last_time = time.time()\n",
    "\n",
    "        avg_p, avg_r, avg_f = utils.print_evaluation(valid_dataset.target_batch, result, output_char2vec.char_dict)\n",
    "        eval.set(epoch, accuracy_ret, loss, speed, avg_p, avg_r, avg_f)\n",
    "        print('')"
   ]
  },
  {
   "cell_type": "code",
   "execution_count": 14,
   "metadata": {
    "collapsed": true
   },
   "outputs": [],
   "source": []
  },
  {
   "cell_type": "code",
   "execution_count": 15,
   "metadata": {},
   "outputs": [
    {
     "ename": "TypeError",
     "evalue": "'<stripped 6400 bytes>' has type str, but expected one of: bytes",
     "output_type": "error",
     "traceback": [
      "\u001b[0;31m---------------------------------------------------------------------------\u001b[0m",
      "\u001b[0;31mTypeError\u001b[0m                                 Traceback (most recent call last)",
      "\u001b[0;32m<ipython-input-15-05763ab98063>\u001b[0m in \u001b[0;36m<module>\u001b[0;34m()\u001b[0m\n\u001b[0;32m----> 1\u001b[0;31m \u001b[0mshow_graph\u001b[0m\u001b[0;34m(\u001b[0m\u001b[0mtf\u001b[0m\u001b[0;34m.\u001b[0m\u001b[0mget_default_graph\u001b[0m\u001b[0;34m(\u001b[0m\u001b[0;34m)\u001b[0m\u001b[0;34m.\u001b[0m\u001b[0mas_graph_def\u001b[0m\u001b[0;34m(\u001b[0m\u001b[0;34m)\u001b[0m\u001b[0;34m)\u001b[0m\u001b[0;34m\u001b[0m\u001b[0m\n\u001b[0m",
      "\u001b[0;32m<ipython-input-14-86ed9391ff6a>\u001b[0m in \u001b[0;36mshow_graph\u001b[0;34m(graph_def, max_const_size)\u001b[0m\n\u001b[1;32m     18\u001b[0m     \u001b[0;32mif\u001b[0m \u001b[0mhasattr\u001b[0m\u001b[0;34m(\u001b[0m\u001b[0mgraph_def\u001b[0m\u001b[0;34m,\u001b[0m \u001b[0;34m'as_graph_def'\u001b[0m\u001b[0;34m)\u001b[0m\u001b[0;34m:\u001b[0m\u001b[0;34m\u001b[0m\u001b[0m\n\u001b[1;32m     19\u001b[0m         \u001b[0mgraph_def\u001b[0m \u001b[0;34m=\u001b[0m \u001b[0mgraph_def\u001b[0m\u001b[0;34m.\u001b[0m\u001b[0mas_graph_def\u001b[0m\u001b[0;34m(\u001b[0m\u001b[0;34m)\u001b[0m\u001b[0;34m\u001b[0m\u001b[0m\n\u001b[0;32m---> 20\u001b[0;31m     \u001b[0mstrip_def\u001b[0m \u001b[0;34m=\u001b[0m \u001b[0mstrip_consts\u001b[0m\u001b[0;34m(\u001b[0m\u001b[0mgraph_def\u001b[0m\u001b[0;34m,\u001b[0m \u001b[0mmax_const_size\u001b[0m\u001b[0;34m=\u001b[0m\u001b[0mmax_const_size\u001b[0m\u001b[0;34m)\u001b[0m\u001b[0;34m\u001b[0m\u001b[0m\n\u001b[0m\u001b[1;32m     21\u001b[0m     code = \"\"\"\n\u001b[1;32m     22\u001b[0m         \u001b[0;34m<\u001b[0m\u001b[0mscript\u001b[0m\u001b[0;34m>\u001b[0m\u001b[0;34m\u001b[0m\u001b[0m\n",
      "\u001b[0;32m<ipython-input-14-86ed9391ff6a>\u001b[0m in \u001b[0;36mstrip_consts\u001b[0;34m(graph_def, max_const_size)\u001b[0m\n\u001b[1;32m     11\u001b[0m             \u001b[0msize\u001b[0m \u001b[0;34m=\u001b[0m \u001b[0mlen\u001b[0m\u001b[0;34m(\u001b[0m\u001b[0mtensor\u001b[0m\u001b[0;34m.\u001b[0m\u001b[0mtensor_content\u001b[0m\u001b[0;34m)\u001b[0m\u001b[0;34m\u001b[0m\u001b[0m\n\u001b[1;32m     12\u001b[0m             \u001b[0;32mif\u001b[0m \u001b[0msize\u001b[0m \u001b[0;34m>\u001b[0m \u001b[0mmax_const_size\u001b[0m\u001b[0;34m:\u001b[0m\u001b[0;34m\u001b[0m\u001b[0m\n\u001b[0;32m---> 13\u001b[0;31m                 \u001b[0mtensor\u001b[0m\u001b[0;34m.\u001b[0m\u001b[0mtensor_content\u001b[0m \u001b[0;34m=\u001b[0m \u001b[0;34m\"<stripped %d bytes>\"\u001b[0m\u001b[0;34m%\u001b[0m\u001b[0msize\u001b[0m\u001b[0;34m\u001b[0m\u001b[0m\n\u001b[0m\u001b[1;32m     14\u001b[0m     \u001b[0;32mreturn\u001b[0m \u001b[0mstrip_def\u001b[0m\u001b[0;34m\u001b[0m\u001b[0m\n\u001b[1;32m     15\u001b[0m \u001b[0;34m\u001b[0m\u001b[0m\n",
      "\u001b[0;31mTypeError\u001b[0m: '<stripped 6400 bytes>' has type str, but expected one of: bytes"
     ]
    }
   ],
   "source": []
  },
  {
   "cell_type": "markdown",
   "metadata": {},
   "source": [
    "### Testing \n",
    "\n",
    "아래와 같이 training 에 사용하지 않고 따로 준비한 \n",
    "data 로 실제 training 결과를 성능 지표 및 실제 문장으로 출력해본다. \n",
    "\n"
   ]
  },
  {
   "cell_type": "code",
   "execution_count": null,
   "metadata": {
    "collapsed": true
   },
   "outputs": [],
   "source": [
    "print('\\n------------ Testing ------------ ')\n",
    "test_sentences = data.read_data(\"data/test/BHXX0035.txt\", 30)\n",
    "test_dataset, _ = data.make_sequences(test_sentences, char2vec, output_char2vec, seq_length,\n",
    "                                      make_valid=False)\n",
    "\n",
    "result = sess.run(prediction, feed_dict={X: test_dataset.input_batch,\n",
    "                                         Y: test_dataset.target_batch,\n",
    "                                         Sequences: test_dataset.seq_lens,\n",
    "                                         keep_prob: 1})\n",
    "\n",
    "accuracy = tf.reduce_mean(tf.cast(tf.equal(result, tf.cast(Y, tf.int64)), tf.float32))\n",
    "accuracy_ret = sess.run(accuracy, feed_dict={Y: test_dataset.target_batch})\n",
    "\n",
    "print('Accuracy =', '{:.6f}'.format(accuracy_ret))\n",
    "\n",
    "for index, predict_sequence in enumerate(result):\n",
    "    target_output, prediction_output = data.compare_sentence(output_char2vec,\n",
    "                                                             test_dataset.target_batch[index],\n",
    "                                                             test_dataset.input_source[index],\n",
    "                                                             predict_sequence)\n",
    "    if index < 2:\n",
    "        print(\"target sentence:    \", target_output[1])\n",
    "        print(\"prediction sentence:\", prediction_output[1])\n",
    "\n",
    "avg_p, avg_r, avg_f = utils.print_evaluation(test_dataset.target_batch, result, output_char2vec.char_dict)\n",
    "\n",
    "evals[type] = eval"
   ]
  },
  {
   "cell_type": "markdown",
   "metadata": {},
   "source": [
    "### Evaluation \n",
    "evaluation 는 sci-learn api 를 사용하였다. \n",
    "\n",
    "두 개를 비교해서 모델과 비교한 것이다.  \n",
    "\n",
    "입력 data 의 양을 늘려서 실제 수행해보도록 하겠다. \n",
    "\n"
   ]
  },
  {
   "cell_type": "code",
   "execution_count": 12,
   "metadata": {},
   "outputs": [
    {
     "name": "stdout",
     "output_type": "stream",
     "text": [
      "****** Bidirectional LSTM Initialize ******\n",
      "------------ Training ------------ \n",
      "Epoch: 0025   accuracy = 0.981250   cost = 0.163670 speed = 8.62 sec\n",
      "Key: \u001b[31m  ,\u001b[0m\tPrec: \u001b[32m  0.0\u001b[0m%\tRecall: \u001b[32m  0.0\u001b[0m%\tF-Score: \u001b[32m  0.0\u001b[0m\u001b[0m\n",
      "Key: \u001b[31m  .\u001b[0m\tPrec: \u001b[32m 98.1\u001b[0m%\tRecall: \u001b[32m100.0\u001b[0m%\tF-Score: \u001b[32m 99.1\u001b[0m\u001b[0m\n",
      "Key: \u001b[31m<nop>\u001b[0m\tPrec: \u001b[32m  0.0\u001b[0m%\tRecall: \u001b[32m  0.0\u001b[0m%\tF-Score: \u001b[32m  0.0\u001b[0m\u001b[0m\n",
      "\n"
     ]
    },
    {
     "name": "stderr",
     "output_type": "stream",
     "text": [
      "/home/nbuser/anaconda3_410/lib/python3.5/site-packages/sklearn/metrics/classification.py:1113: UndefinedMetricWarning: Precision and F-score are ill-defined and being set to 0.0 in labels with no predicted samples.\n",
      "  'precision', 'predicted', average, warn_for)\n",
      "/home/nbuser/anaconda3_410/lib/python3.5/site-packages/sklearn/metrics/classification.py:1115: UndefinedMetricWarning: Recall and F-score are ill-defined and being set to 0.0 in labels with no true samples.\n",
      "  'recall', 'true', average, warn_for)\n"
     ]
    },
    {
     "name": "stdout",
     "output_type": "stream",
     "text": [
      "Epoch: 0050   accuracy = 0.981250   cost = 0.141696 speed = 8.49 sec\n",
      "Key: \u001b[31m  ,\u001b[0m\tPrec: \u001b[32m  0.0\u001b[0m%\tRecall: \u001b[32m  0.0\u001b[0m%\tF-Score: \u001b[32m  0.0\u001b[0m\u001b[0m\n",
      "Key: \u001b[31m  .\u001b[0m\tPrec: \u001b[32m 98.1\u001b[0m%\tRecall: \u001b[32m100.0\u001b[0m%\tF-Score: \u001b[32m 99.1\u001b[0m\u001b[0m\n",
      "Key: \u001b[31m<nop>\u001b[0m\tPrec: \u001b[32m  0.0\u001b[0m%\tRecall: \u001b[32m  0.0\u001b[0m%\tF-Score: \u001b[32m  0.0\u001b[0m\u001b[0m\n",
      "\n",
      "Epoch: 0075   accuracy = 0.981250   cost = 0.109152 speed = 8.95 sec\n",
      "Key: \u001b[31m  ,\u001b[0m\tPrec: \u001b[32m  0.0\u001b[0m%\tRecall: \u001b[32m  0.0\u001b[0m%\tF-Score: \u001b[32m  0.0\u001b[0m\u001b[0m\n",
      "Key: \u001b[31m  .\u001b[0m\tPrec: \u001b[32m 98.1\u001b[0m%\tRecall: \u001b[32m100.0\u001b[0m%\tF-Score: \u001b[32m 99.1\u001b[0m\u001b[0m\n",
      "Key: \u001b[31m<nop>\u001b[0m\tPrec: \u001b[32m  0.0\u001b[0m%\tRecall: \u001b[32m  0.0\u001b[0m%\tF-Score: \u001b[32m  0.0\u001b[0m\u001b[0m\n",
      "\n",
      "Epoch: 0100   accuracy = 0.991250   cost = 0.062073 speed = 8.50 sec\n",
      "Key: \u001b[31m  ,\u001b[0m\tPrec: \u001b[32m100.0\u001b[0m%\tRecall: \u001b[32m 87.5\u001b[0m%\tF-Score: \u001b[32m 91.7\u001b[0m\u001b[0m\n",
      "Key: \u001b[31m  .\u001b[0m\tPrec: \u001b[32m 99.1\u001b[0m%\tRecall: \u001b[32m100.0\u001b[0m%\tF-Score: \u001b[32m 99.6\u001b[0m\u001b[0m\n",
      "Key: \u001b[31m<nop>\u001b[0m\tPrec: \u001b[32m  0.0\u001b[0m%\tRecall: \u001b[32m  0.0\u001b[0m%\tF-Score: \u001b[32m  0.0\u001b[0m\u001b[0m\n",
      "\n",
      "1.96499997377\n",
      "17.28117734193802\n",
      "0.739583333333\n",
      "0.289950804785\n",
      "0.737150389622\n",
      "0.738325968013\n",
      "------------ Testing ------------ \n",
      "length of paragraph:  12  characters:  1535\n",
      "Accuracy = 0.989375\n",
      "target sentence:     글을 쓰는 것은 혼자만의 일이 아니었다. 한 문장을 쓸 때마다  마음 속에 자리잡고 있는 수많은 독자들의 눈이 나를 감시하였다. 그래서인지 이 책을  다 완성하였을 때 느낀 감정은  \n",
      "prediction sentence: 글을 쓰는 것은 혼자만의 일이 아니었다 한 문장을 쓸 때마다  마음 속에 자리잡고 있는 수많은 독자들의 눈이 나를 감시하였다 그래서인지 이 책을  다 완성하였을 때 느낀 감정은  \n",
      "target sentence:      탈고의 기쁨보다는 감시의 눈초리로부터 벗어났다는 해방감이었다. 사람들은 많은 생각을 갖고 있다. 보통 사람들의 머리 속에는  책 몇 권 분량에 해당하는 많은 생각이 들어 있다.    \n",
      "prediction sentence:  탈고의 기쁨보다는 감시의 눈초리로부터 벗어났다는 해방감이었다 사람들은 많은 생각을 갖고 있다. 보통 사람들의 머리 속에는  책 몇 권 분량에 해당하는 많은 생각이 들어 있다.    \n",
      "target sentence:      누구나 다른 사람들에게 해주고 싶은  저마다의 이야기가 있기 때문이다. 하지만 머리 속에 이야기를 간직하고 있을 때와 그  이야기를 글로 써야 될 때에는 엄청난 차이가 있다. 나  \n",
      "prediction sentence:  누구나 다른 사람들에게 해주고 싶은  저마다의 이야기가 있기 때문이다. 하지만 머리 속에 이야기를 간직하고 있을 때와 그  이야기를 글로 써야 될 때에는 엄청난 차이가 있다. 나  \n",
      "target sentence:     는 이번에 그 차이를 절감하였다. 내가 이 글을 쓰고 원고를 다듬으면서 절실하게 느낀 것은 나의 지식은 말할  것도 없고 그 얕은 지식과 생각을 표현하는 능력조차도 너무나 부족하다 \n",
      "prediction sentence: 는 이번에 그 차이를 절감하였다 내가 이 글을 쓰고 원고를 다듬으면서 절실하게 느낀 것은 나의 지식은 말할  것도 없고 그 얕은 지식과 생각을 표현하는 능력조차도 너무나 부족하다 \n",
      "target sentence:     는 사실이었다. 오로지 뻔뻔스러움만이 이 책을 완성시킬 수 있는 힘이 되었던 것 같다. 그러나 수십 번이나 중도에서 포기하고 싶었던 이 일을 수행한 본래의 까닭은 다른 데 있다.    \n",
      "prediction sentence: 는 사실이었다 오로지 뻔뻔스러움만이 이 책을 완성시킬 수 있는 힘이 되었던 것 같다. 그러나 수십 번이나 중도에서 포기하고 싶었던 이 일을 수행한 본래의 까닭은 다른 데 있다.    \n",
      "target sentence:     사람들이 `철학'이라는 학문에 대해서 너무나도 많은 편견을 가지고 있다는 사실이 내게 이 작업을 시작하도록 하였고, 또  중도에서 포기할 수 없도록 하였다. 철학이라는  말을 들으  \n",
      "prediction sentence: 사람들이 `철학'이라는 학문에 대해서 너무나도 많은 편견을 가지고 있다는 사실이 내게 이 작업을 시작하도록 하였고 또  중도에서 포기할 수 없도록 하였다 철학이라는  말을 들으  \n",
      "target sentence:     면 사람들은 제일 먼저 미아리 고개 근처의 점쟁이나 깊은 산 속에서 입산수도하고 나온 긴 수염을 기른 괴팍스러운 사람들을 떠올린다. 물리학이 자연의 물리현상을 다루는 학문이고, 경  \n",
      "prediction sentence: 면 사람들은 제일 먼저 미아리 고개 근처의 점쟁이나 깊은 산 속에서 입산수도하고 나온 긴 수염을 기른 괴팍스러운 사람들을 떠올린다 물리학이 자연의 물리현상을 다루는 학문이고 경  \n",
      "target sentence:     제학이 한 사회의 물질적 부를 다루는 학문인 것과 마찬가지로 철학도 하나의 `학문'이다. 물리학이나 경제학이 사람들의 삶을 윤택하게 만드는 데 도움을 주기  위해서 존재하듯이 철학 \n",
      "prediction sentence: 제학이 한 사회의 물질적 부를 다루는 학문인 것과 마찬가지로 철학도 하나의 `학문'이다. 물리학이나 경제학이 사람들의 삶을 윤택하게 만드는 데 도움을 주기  위해서 존재하듯이 철학 \n",
      "target sentence:     도 마찬가지의  이유에서 존재한다. 과학이나 경제학에서 엄밀하고 일관된 논리와 법칙이 필요하듯이 철학에서도 이러한 논리적 엄밀성이 요구된다. 단지, 철학이라는 학문의 대상은 자연의   \n",
      "prediction sentence: 도 마찬가지의  이유에서 존재한다. 과학이나 경제학에서 엄밀하고 일관된 논리와 법칙이 필요하듯이 철학에서도 이러한 논리적 엄밀성이 요구된다. 단지 철학이라는 학문의 대상은 자연의   \n",
      "target sentence:      물리현상이나 경제법칙 등 제한된 영역이 아니라 인간의 사고라는  포괄적이고 추상적인 측면이라는 차이가  있을 뿐이다. 철학은 여러 학문들로부터 열외된 `이상한 학문'이 결코 아니 \n",
      "prediction sentence:  물리현상이나 경제법칙 등 제한된 영역이 아니라 인간의 사고라는  포괄적이고 추상적인 측면이라는 차이가  있을 뿐이다. 철학은 여러 학문들로부터 열외된 `이상한 학문'이 결코 아니 \n",
      "target sentence:     다. 사람들의 오해를 불식시키고 철학의 필요성을 인식시켜주기 위해서 과감하게 용기를 내긴 하였지만 이 작업이 만족할 만한 것인지에 대해서는 여전히 자신이 생기지 않는다. 비록 마음  \n",
      "prediction sentence: 다 사람들의 오해를 불식시키고 철학의 필요성을 인식시켜주기 위해서 과감하게 용기를 내긴 하였지만 이 작업이 만족할 만한 것인지에 대해서는 여전히 자신이 생기지 않는다 비록 마음  \n",
      "target sentence:      속에 있던 독자들의 눈초리로부터 해방되기는 하였지만 이제 정작 이 책을 읽는 현실의 독자들이 내 앞에 가로서 있다는 사실도 엄청난 부담이  된다. 서툴고 난삽한 표현이 있더라도  \n",
      "prediction sentence:  속에 있던 독자들의 눈초리로부터 해방되기는 하였지만 이제 정작 이 책을 읽는 현실의 독자들이 내 앞에 가로서 있다는 사실도 엄청난 부담이  된다. 서툴고 난삽한 표현이 있더라도  \n",
      "target sentence:     독자들의 아량을 바란다. 혹 잘못된 곳이나 부족한 면이 있다면 개정판을 통해서 보충할 것이다. 비록 보잘 것 없는 책이긴 하지만, 이 책은 나 혼자의 힘으로 이루어진 것이 아니다.    \n",
      "prediction sentence: 독자들의 아량을 바란다 혹 잘못된 곳이나 부족한 면이 있다면 개정판을 통해서 보충할 것이다. 비록 보잘 것 없는 책이긴 하지만 이 책은 나 혼자의 힘으로 이루어진 것이 아니다.    \n",
      "target sentence:      기획에서부터 원고를 쓰는 데까지 많은  선후배와 동료들이 함께 작업하였다.  글의 구성부터 원고검토와 교열에 이르기까지 많은 부분에서 귀중한 조언을 해주신 분들께 이 기회를 빌어 \n",
      "prediction sentence:  기획에서부터 원고를 쓰는 데까지 많은  선후배와 동료들이 함께 작업하였다  글의 구성부터 원고검토와 교열에 이르기까지 많은 부분에서 귀중한 조언을 해주신 분들께 이 기회를 빌어 \n",
      "target sentence:     서 다시 한 번 깊은 감사를 드린다. 아울러 부족한  책을 흔쾌히 출간해준 도서출판 녹두에도 깊은 감사를 드린다. 부족하고 모자라는 책이지만 이『철학 이야기주머니』가 철학을 이해하  \n",
      "prediction sentence: 서 다시 한 번 깊은 감사를 드린다 아울러 부족한  책을 흔쾌히 출간해준 도서출판 녹두에도 깊은 감사를 드린다 부족하고 모자라는 책이지만 이『철학 이야기주머니』가 철학을 이해하  \n",
      "target sentence:     려는 사람들에게 작은 도움이라도 되었으면 하는 마음 간절하다.                                                                   \n",
      "prediction sentence: 려는 사람들에게 작은 도움이라도 되었으면 하는 마음 간절하다.                                                                   \n"
     ]
    }
   ],
   "source": [
    "import models.rnns as rnns\n",
    "\n",
    "bidir_rnn = rnns.MultiLayerLSTM(modelconfig, char2vec, output_char2vec, text, seq_length=100, type=\"bimul\")\n",
    "evals[types[1]] = bidir_rnn.run()\n",
    "\n",
    "import math, numpy as np, matplotlib.pyplot as plt\n",
    "\n",
    "plt.figure(figsize=(8, 8))\n",
    "\n",
    "keys =list(evals[\"multi\"].total.keys())\n",
    "subplotnum = 321\n",
    "\n",
    "multi_eval = evals[\"multi\"].total\n",
    "bimul_eval = evals[\"bimul\"].total\n",
    "small = 12\n",
    "very_small = 10\n",
    "for key in keys:\n",
    "    plt.subplot(subplotnum)\n",
    "    plt.title(key, fontsize=small)\n",
    "\n",
    "    plt.plot([k[0] for k in multi_eval[key]], [k[1] for k in multi_eval[key]], label='multi')\n",
    "    plt.plot([k[0] for k in bimul_eval[key]], [k[1] for k in bimul_eval[key]], label='bidir')\n",
    "    plt.legend(loc='lower right')\n",
    "    plt.ylabel(key, fontsize=very_small)\n",
    "    plt.xlabel('Epoch', fontsize=very_small)\n",
    "    subplotnum = subplotnum + 1\n",
    "plt.tight_layout()\n",
    "\n",
    "plt.show()\n"
   ]
  },
  {
   "cell_type": "markdown",
   "metadata": {},
   "source": [
    "## Conclution \n",
    "실제 수행결과 쉼표는 예측율이 떨어졌다.  \n",
    "이는 .... \n",
    "\n"
   ]
  },
  {
   "cell_type": "markdown",
   "metadata": {},
   "source": [
    "### TODO \n",
    "\n",
    "1. 현재 성능은 고려하지 않았으나, 수행 성능 비교. \n",
    "    1. mini batch 사용 시 \n",
    "    2. 각각 모델의 성능 \n"
   ]
  },
  {
   "cell_type": "markdown",
   "metadata": {},
   "source": [
    "### Reference \n",
    "https://github.com/episodeyang/deep-auto-punctuation  \n",
    "https://github.com/ematvey/tensorflow-seq2seq-tutorials/blob/master/1-seq2seq.ipynb\n",
    "http://pythonkim.tistory.com/20\n",
    "http://mazdah.tistory.com/791\n",
    "https://stackoverflow.com/questions/36515202/why-is-the-cross-entropy-method-preferred-over-mean-squared-error-in-what-cases"
   ]
  }
 ],
 "metadata": {
  "kernelspec": {
   "display_name": "Python 3",
   "language": "python",
   "name": "python3"
  },
  "language_info": {
   "codemirror_mode": {
    "name": "ipython",
    "version": 3
   },
   "file_extension": ".py",
   "mimetype": "text/x-python",
   "name": "python",
   "nbconvert_exporter": "python",
   "pygments_lexer": "ipython3",
   "version": "3.5.1"
  }
 },
 "nbformat": 4,
 "nbformat_minor": 1
}
