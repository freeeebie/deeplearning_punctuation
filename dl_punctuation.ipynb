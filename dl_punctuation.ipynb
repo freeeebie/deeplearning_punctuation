{
 "cells": [
  {
   "cell_type": "markdown",
   "metadata": {
    "collapsed": true
   },
   "source": [
    "## 문장 기호 자동 추가\n",
    "문장이 주어졌을 때 문장 부호인 마침표('.')와 쉼표(',') 를 자동으로 추가하는 프로그램을 작성하는 것을 목표로 한다.  \n",
    "이를 수행하기 위하여 복수의 문장을 입력 받아 Deep Learning Network 을 구성하여 training 하고,  \n",
    "예시 문장에 대하여 적용하여 실제 동작을 잘 수행하는지 확인 한다  \n",
    "\n",
    "### data 추상화\n",
    "\n",
    "예를 들면, 아래와 같이 문장이 주어졌다고 가정하자.  \n",
    "'''\n",
    "   \"오늘 걷지 않는다면 내일은 뛰어야 한다\"\n",
    "'''\n",
    "우리가 원하는 결과는 아래와 같을 것이다.  \n",
    "'''\n",
    "   \"오늘 걷지 않는다면, 내일은 뛰어야 한다.\"\n",
    "'''\n",
    "\n",
    "   \n",
    "입력된 문장에서 target 을 아래와 같이 구성한다  \n",
    "\n",
    "```\n",
    " 문자 : '<nop>'  \n",
    "   . : '.'  \n",
    "   , : ','  \n",
    "```\n",
    "\n",
    "즉, 위의 예를 다시 쓰면 아래처럼 될 것이다. \n",
    "```\n",
    "   오 : '<nop>'\n",
    "   늘 : '<nop>'\n",
    "   ... \n",
    "   면 : '<nop>'\n",
    "   , : ','\n",
    "   내 : '<nop>'\n",
    "   ...\n",
    "   다 : '<nop>'\n",
    "   . : '.'\n",
    "```\n",
    "```\n",
    "\"오늘 걷지 않는다면 내일은 뛰어야 한다\"\n",
    "```\n",
    "가 들어오면, \n",
    "<nop>, ',', '.' 로 이루어진 리스트가 출력되는 문제로 추상화할 수 있다. \n",
    "    \n",
    "     \"그러므로 입력 문장에 대하여 이에 대응되는 '<nop>', '.', ',' 로 구성된 출력을 구하는 문제로 정의 할 수 있다.  \\n\",\n",
    "    \"입력은 문장으로 이루어지고, 출력은 세개의 character 로 구성된 list 가 될 것이다.  \\n\",\n",
    "    \"  \\n\",\n",
    "    \"character 단위로 다루면 문장의 의미 파악이 되지 않을 것으로 생각된다. \\n\",\n",
    "    \"더 좋은 결과를 얻기 위하여서는 문장을 해석해서 처리하는 것이 좋을 것 같으나,  \\n\",\n",
    "    \"문제를 단순화 하기 위하여 문장을 character 단위로 다루기로 한다.  \\n\",\n",
    "    \n",
    "\n",
    "\n",
    "    \n",
    "\n"
   ]
  },
  {
   "cell_type": "code",
   "execution_count": 1,
   "metadata": {},
   "outputs": [],
   "source": [
    "%load_ext autoreload\n"
   ]
  },
  {
   "cell_type": "code",
   "execution_count": 2,
   "metadata": {},
   "outputs": [],
   "source": [
    "%autoreload 2"
   ]
  },
  {
   "cell_type": "code",
   "execution_count": 3,
   "metadata": {},
   "outputs": [
    {
     "name": "stdout",
     "output_type": "stream",
     "text": [
      "1.3.0\n"
     ]
    }
   ],
   "source": [
    "import tensorflow as tf\n",
    "\n",
    "print(tf.__version__)"
   ]
  },
  {
   "cell_type": "markdown",
   "metadata": {},
   "source": [
    "### preprocessing \n",
    "\n",
    "입력은 한글로 된 세종 코퍼스에서 입력 받아 처리하였다.  \n",
    "입력된 data 중 <p> </p> 로 묶인 문장만을 사용하였다. \n",
    "\n",
    "\"우선 trainging 을 위하여 입력한 data 를 처리해야 한다. 문장을 입력받으면, 우선 character vector 를 구성한다.  \\n\",\n",
    "    \"한글의 문자는 그 수가 많으므로,  \\n\",\n",
    "    \"training data 의 빈도수를 보고, 입력 문자의\\n\"  \n",
    "character 의 빈도수를 보았을 때, character 에 대한 입력 dictionary 를 200 으로 사용하였다. "
   ]
  },
  {
   "cell_type": "code",
   "execution_count": 6,
   "metadata": {},
   "outputs": [
    {
     "name": "stdout",
     "output_type": "stream",
     "text": [
      "length of paragraph:  875\n"
     ]
    },
    {
     "data": {
      "image/png": "[encoded data removed]",
      "text/plain": [
       "<matplotlib.figure.Figure at 0x11167ec18>"
      ]
     },
     "metadata": {},
     "output_type": "display_data"
    }
   ],
   "source": [
    "import math, numpy as np, matplotlib.pyplot as plt\n",
    "import data\n",
    "\n",
    "rawdata = data.read_data(\"data/4BE00006.txt\")\n",
    "\n",
    "sorted_char_map = data.get_sorted_char_map(rawdata)\n",
    "\n",
    "plt.title('Frequency of Each Character', fontsize=18)\n",
    "plt.plot(np.array([math.log10(k[1]) for k in sorted_char_map]))\n",
    "plt.ylabel('$\\log_{10}$ Frequency', fontsize=14)\n",
    "plt.xlabel('Character Index', fontsize=14)\n",
    "plt.show()"
   ]
  },
  {
   "cell_type": "markdown",
   "metadata": {},
   "source": [
    "### 네트워크 구성 \n",
    "입력은 100 개의 character 이고, 이러한 입력이 들어올 때  \n",
    "출력은 세 개의 케이스 ('<nop>', '.', ',') 중 하나를 출력하도록 네트워크를 구성한다. \n",
    "\n",
    "문장을 training하여 문장 부호를 예측하는 모델은, \n",
    "각 문장의 character 들은 그 이전에 나온 character 와 밀접한 관계를 가지므로 네트워크는 RNN 을 사용한다.  \n",
    "RNN 의 cell 은 vanishing gradient 의 영향을 줄일 수 있는 LSTM 을 사용한다.\n",
    "Layer 를 2 layer를 사용하였고, hidden size 는 128 로 설정하였다. \n",
    "\n",
    "100 개중 1 * 128 * 128 * 3 개중 1의 네트워크가 될 것이다. \n"
   ]
  },
  {
   "cell_type": "code",
   "execution_count": 3,
   "metadata": {},
   "outputs": [
    {
     "name": "stdout",
     "output_type": "stream",
     "text": [
      "=== start prediction of puncuation ===\n",
      "length of paragraph:  875\n"
     ]
    }
   ],
   "source": [
    "import data\n",
    "import utils\n",
    "import model\n",
    "\n",
    "print(\"=== start prediction of puncuation ===\")\n",
    "rawdata = data.read_data(\"data/4BE00006.txt\")\n",
    "\n",
    "dic_size = 100\n",
    "input_chars, output_chars = data.make_dic(rawdata, dic_size)\n",
    "\n",
    "text = rawdata\n",
    "\n",
    "char2vec = utils.Char2Vec(chars=input_chars, add_unknown=True)\n",
    "output_char2vec = utils.Char2Vec(chars=output_chars)\n",
    "input_size = char2vec.size\n",
    "output_size = output_char2vec.size\n",
    "\n",
    "# make and run multi layer LSTM network\n",
    "hidden_size = 128\n"
   ]
  },
  {
   "cell_type": "code",
   "execution_count": 4,
   "metadata": {},
   "outputs": [],
   "source": [
    "import tensorflow as tf \n",
    "import model \n",
    "\n",
    "seq_length = 30\n",
    "training_dataset, valid_dataset = model.make_sequences(text, char2vec, output_char2vec, seq_length)\n",
    "\n",
    "input_batch = training_dataset.input_batch\n",
    "target_batch = training_dataset.target_batch\n",
    "seq_lens = training_dataset.seq_lens\n",
    "\n",
    "batch_size = len(input_batch)\n",
    "\n",
    "tf.reset_default_graph()\n",
    "X = tf.placeholder(tf.int32, [None, seq_length])  # X data\n",
    "Y = tf.placeholder(tf.int32, [None, seq_length])  # Y label\n",
    "\n",
    "Seqlen = tf.placeholder(tf.int32, [None])\n",
    "\n",
    "Weight = tf.placeholder(tf.float32, [None, None])  # Weight\n",
    "X_one_hot = tf.one_hot(X, input_size)  # one hot: 1 -> 0 1 0 0 0 0 0 0 0 0\n",
    "\n",
    "with tf.variable_scope('cell_def'):\n",
    "    cell1 = tf.nn.rnn_cell.BasicLSTMCell(num_units=hidden_size, state_is_tuple=True)\n",
    "    # cell1 = tf.nn.rnn_cell.DropoutWrapper(cell1, output_keep_prob=0.5)\n",
    "    cell2 = tf.nn.rnn_cell.BasicLSTMCell(num_units=hidden_size, state_is_tuple=True)\n",
    "\n",
    "    multi_cell = tf.nn.rnn_cell.MultiRNNCell([cell1, cell2])\n",
    "with tf.variable_scope('rnn_def'):\n",
    "    outputs, _states = tf.nn.dynamic_rnn(\n",
    "        multi_cell, X_one_hot,  dtype=tf.float32, sequence_length=Seqlen)\n",
    "\n",
    "rnnmodel = tf.layers.dense(outputs, output_size, activation=None)\n",
    "\n",
    "cost = tf.reduce_mean(tf.nn.sparse_softmax_cross_entropy_with_logits(logits=rnnmodel, labels=Y))\n",
    "\n",
    "optimizer = tf.train.AdamOptimizer(learning_rate=0.001).minimize(cost)\n",
    "\n",
    "weights = model.make_weight_mat(input_batch, seq_lens)\n",
    "\n",
    "prediction = tf.argmax(rnnmodel, axis=2) # axis 2 ??\n",
    "target = tf.cast(Y, tf.int64) #Y #tf.argmax(Y, axis=1) # axis 2 ??\n",
    "\n"
   ]
  },
  {
   "cell_type": "code",
   "execution_count": 8,
   "metadata": {},
   "outputs": [
    {
     "name": "stdout",
     "output_type": "stream",
     "text": [
      "--- learning start ---\n",
      "epoch # 9\n",
      "accuracy: 0.968074\n",
      "Key: \u001b[31m<nop>\u001b[0m\tPrec: \u001b[32m100.0\u001b[0m%\tRecall: \u001b[32m6.8\u001b[0m\tF-Score: \u001b[32m 98.4\u001b[0m%\u001b[0m\n",
      "Key: \u001b[31m  ,\u001b[0m\tPrec: \u001b[32m  0.0\u001b[0m%\tRecall: \u001b[32m0.0\u001b[0m\tF-Score:   N/A\u001b[0m\n",
      "Key: \u001b[31m  .\u001b[0m\tPrec: \u001b[32m  0.0\u001b[0m%\tRecall: \u001b[32m0.0\u001b[0m\tF-Score:   N/A\u001b[0m\n",
      "epoch # 19\n",
      "accuracy: 0.968074\n",
      "Key: \u001b[31m<nop>\u001b[0m\tPrec: \u001b[32m100.0\u001b[0m%\tRecall: \u001b[32m6.8\u001b[0m\tF-Score: \u001b[32m 98.4\u001b[0m%\u001b[0m\n",
      "Key: \u001b[31m  ,\u001b[0m\tPrec: \u001b[32m  0.0\u001b[0m%\tRecall: \u001b[32m0.0\u001b[0m\tF-Score:   N/A\u001b[0m\n",
      "Key: \u001b[31m  .\u001b[0m\tPrec: \u001b[32m  0.0\u001b[0m%\tRecall: \u001b[32m0.0\u001b[0m\tF-Score:   N/A\u001b[0m\n"
     ]
    },
    {
     "data": {
      "image/png": "[encoded data removed]",
      "text/plain": [
       "<matplotlib.figure.Figure at 0x113200588>"
      ]
     },
     "metadata": {},
     "output_type": "display_data"
    },
    {
     "ename": "NameError",
     "evalue": "name 'self' is not defined",
     "output_type": "error",
     "traceback": [
      "\u001b[0;31m---------------------------------------------------------------------------\u001b[0m",
      "\u001b[0;31mNameError\u001b[0m                                 Traceback (most recent call last)",
      "\u001b[0;32m<ipython-input-8-bce08018e9b9>\u001b[0m in \u001b[0;36m<module>\u001b[0;34m()\u001b[0m\n\u001b[1;32m     37\u001b[0m \u001b[0;34m\u001b[0m\u001b[0m\n\u001b[1;32m     38\u001b[0m \u001b[0mtest_sentence\u001b[0m \u001b[0;34m=\u001b[0m \u001b[0mlist\u001b[0m\u001b[0;34m(\u001b[0m\u001b[0;34m\"예를 들어, 이와 같은 경우 불법이 확실하다.\"\u001b[0m\u001b[0;34m)\u001b[0m\u001b[0;34m\u001b[0m\u001b[0m\n\u001b[0;32m---> 39\u001b[0;31m \u001b[0mtest_dataset\u001b[0m\u001b[0;34m,\u001b[0m \u001b[0m_\u001b[0m \u001b[0;34m=\u001b[0m \u001b[0mmodel\u001b[0m\u001b[0;34m.\u001b[0m\u001b[0mmake_sequences\u001b[0m\u001b[0;34m(\u001b[0m\u001b[0mtest_sentence\u001b[0m\u001b[0;34m,\u001b[0m \u001b[0mself\u001b[0m\u001b[0;34m.\u001b[0m\u001b[0mchar2vec\u001b[0m\u001b[0;34m,\u001b[0m \u001b[0mself\u001b[0m\u001b[0;34m.\u001b[0m\u001b[0moutput_char2vec\u001b[0m\u001b[0;34m,\u001b[0m \u001b[0mself\u001b[0m\u001b[0;34m.\u001b[0m\u001b[0mseq_length\u001b[0m\u001b[0;34m,\u001b[0m \u001b[0mmake_valid\u001b[0m\u001b[0;34m=\u001b[0m\u001b[0;32mFalse\u001b[0m\u001b[0;34m)\u001b[0m\u001b[0;34m\u001b[0m\u001b[0m\n\u001b[0m\u001b[1;32m     40\u001b[0m \u001b[0mweights\u001b[0m \u001b[0;34m=\u001b[0m \u001b[0mmake_weight_mat\u001b[0m\u001b[0;34m(\u001b[0m\u001b[0mtest_dataset\u001b[0m\u001b[0;34m.\u001b[0m\u001b[0minput_batch\u001b[0m\u001b[0;34m,\u001b[0m \u001b[0mtest_dataset\u001b[0m\u001b[0;34m.\u001b[0m\u001b[0mseq_lens\u001b[0m\u001b[0;34m)\u001b[0m\u001b[0;34m\u001b[0m\u001b[0m\n\u001b[1;32m     41\u001b[0m \u001b[0;34m\u001b[0m\u001b[0m\n",
      "\u001b[0;31mNameError\u001b[0m: name 'self' is not defined"
     ]
    }
   ],
   "source": [
    "import math, numpy as np, matplotlib.pyplot as plt\n",
    "\n",
    "sess = tf.Session()\n",
    "sess.run(tf.global_variables_initializer())\n",
    "accuracyset = []\n",
    "print(\"--- learning start ---\")\n",
    "for epoch in range(20):\n",
    "    l, loss = sess.run([optimizer, cost], feed_dict={X:input_batch, Y:target_batch, Weight:weights, Seqlen:seq_lens})\n",
    "\n",
    "    if epoch%10 == 9:\n",
    "        print(\"epoch #\", epoch)\n",
    "\n",
    "        valid_weights = model.make_weight_mat(valid_dataset.input_batch, valid_dataset.seq_lens)\n",
    "\n",
    "        result = sess.run(prediction, feed_dict={X: valid_dataset.input_batch, Y:valid_dataset.target_batch, Weight:valid_weights, Seqlen:valid_dataset.seq_lens})\n",
    "        sess.run(target, feed_dict={Y: valid_dataset.target_batch})\n",
    "        is_correct = tf.equal(prediction, target)\n",
    "\n",
    "        accuracy = tf.reduce_mean(tf.cast(is_correct, tf.float32))\n",
    "        accuracy_ret = sess.run(accuracy, feed_dict={X: valid_dataset.input_batch, Y:valid_dataset.target_batch, Weight:valid_weights, Seqlen:valid_dataset.seq_lens})\n",
    "        print(\"accuracy:\", accuracy_ret)\n",
    "        accuracyset.append([epoch, accuracy_ret])\n",
    "        result_output_mat = []\n",
    "        target_output_mat = []\n",
    "        for index, sq in enumerate(result):\n",
    "            result_output, target_output = model.compare_sentence(output_char2vec, valid_dataset.target_batch[index], valid_dataset.input_source[index], sq, True if epoch == 999 else False)\n",
    "            result_output_mat.append(result_output)\n",
    "            target_output_mat.append(target_output)\n",
    "\n",
    "        utils.print_pc_matrix(result_output_mat, target_output_mat)\n",
    "print(\"--- learning end ---\")\n",
    "\n",
    "plt.title('Accuracy', fontsize=18)\n",
    "plt.plot([k[0] for k in accuracyset], [k[1] for k in accuracyset])\n",
    "plt.ylabel('Accuracy', fontsize=14)\n",
    "plt.xlabel('Epoch', fontsize=14)\n",
    "plt.show()        \n",
    "        \n",
    "test_sentence = list(\"예를 들어, 이와 같은 경우 불법이 확실하다.\")\n",
    "test_dataset, _ = model.make_sequences(test_sentence, char2vec, output_char2vec, seq_length, make_valid=False)\n",
    "weights = model.make_weight_mat(test_dataset.input_batch, test_dataset.seq_lens)\n",
    "\n",
    "# print(test_dataset.input_batch)\n",
    "# print(test_dataset.target_batch)\n",
    "\n",
    "result = sess.run(prediction, feed_dict={X: test_dataset.input_batch, Y: test_dataset.target_batch,\n",
    "                                                   Weight: weights, Seqlen: test_dataset.seq_lens})\n",
    "# print(result)\n",
    "\n",
    "for index, sq in enumerate(result):\n",
    "    result_output, target_output = model.compare_sentence(output_char2vec, test_dataset.target_batch[index],\n",
    "                                                         test_dataset.input_source[index], sq, printable=True)\n"
   ]
  },
  {
   "cell_type": "markdown",
   "metadata": {},
   "source": [
    "### Reference \n",
    "https://github.com/episodeyang/deep-auto-punctuation  \n",
    "https://github.com/ematvey/tensorflow-seq2seq-tutorials/blob/master/1-seq2seq.ipynb\n"
   ]
  }
 ],
 "metadata": {
  "kernelspec": {
   "display_name": "Python 3",
   "language": "python",
   "name": "python3"
  },
  "language_info": {
   "codemirror_mode": {
    "name": "ipython",
    "version": 3
   },
   "file_extension": ".py",
   "mimetype": "text/x-python",
   "name": "python",
   "nbconvert_exporter": "python",
   "pygments_lexer": "ipython3",
   "version": "3.6.2"
  }
 },
 "nbformat": 4,
 "nbformat_minor": 1
}
